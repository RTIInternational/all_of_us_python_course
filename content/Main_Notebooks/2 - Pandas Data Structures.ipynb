{
 "cells": [
  {
   "cell_type": "markdown",
   "id": "b63091ef-c217-45fd-976d-733e4d5f2bb9",
   "metadata": {},
   "source": [
    "# Pandas Data Structures"
   ]
  },
  {
   "cell_type": "markdown",
   "id": "2f200927-9d66-4089-ad9b-3bb6bd326980",
   "metadata": {},
   "source": [
    "## Summary\n",
    "In this notebook, we'll be covering:\n",
    "- [Dataframes](#Dataframes)\n",
    "- [Columns](#Columns)\n",
    "- [Rows and cells](#Rows-and-Cells)\n",
    "- [Modifying dataframes](#Modifying-Dataframes)\n",
    "- [Creating dataframes](#Creating-Dataframes)\n",
    "- [Combining dataframes](#Combining-Dataframes)"
   ]
  },
  {
   "cell_type": "markdown",
   "id": "d3102320-9daf-4f97-bdde-70eb01da10d0",
   "metadata": {},
   "source": [
    "### Introduction\n",
    "This is the first section to deal specifically with Pandas. Pandas is a powerful data analysis library that makes data science work much easier than it once was."
   ]
  },
  {
   "cell_type": "markdown",
   "id": "58fccd53-7a8d-4931-9f8a-c8ee8a60380a",
   "metadata": {},
   "source": [
    "### Dataframes"
   ]
  },
  {
   "cell_type": "markdown",
   "id": "a0fd71cc",
   "metadata": {},
   "source": [
    "Load the pandas package, and assign it a shorthand name, 'pd'."
   ]
  },
  {
   "cell_type": "code",
   "execution_count": null,
   "id": "86ecd1c7",
   "metadata": {},
   "outputs": [],
   "source": [
    "import pandas as pd"
   ]
  },
  {
   "cell_type": "markdown",
   "id": "ee1dec84",
   "metadata": {},
   "source": [
    "Don't worry about understanding this block of code, but you will need to run it to do the rest of this exercise. \n",
    "The important thing is, it stores a dataframe you can use into the variable named \"df\". \n",
    "We are using this instead of the pd.read_csv() function to load a dataframe for the purposes of these exercises. The read_csv() function is often used to load a dataframe from a .csv file, but given the Jupyter notebooks format, it is easier to load a dataframe this way for the purposes of this exercise."
   ]
  },
  {
   "cell_type": "code",
   "execution_count": null,
   "id": "7ba66e1b",
   "metadata": {},
   "outputs": [],
   "source": [
    "import random\n",
    "\n",
    "workout_dict = {'ID': [], 'Measurement Device': [], 'Heart Rate Max': [], 'Heart Rate Min': [], 'Heart Rate Avg': [],\n",
    "              'Duration of exercise (min)': [], 'Exercise Type': []}\n",
    "used_ids = []\n",
    "\n",
    "for x in range(0, 500):\n",
    "    id = random.randint(100000000, 999999999)\n",
    "    while id in used_ids:\n",
    "        id = random.randint(100000000, 999999999)\n",
    "    used_ids.append(id)\n",
    "    device = random.choice(['Skykandal', 'B-Wolf'])\n",
    "    mu = random.randint(65, 85)\n",
    "    min_rate = int(random.gauss(mu, 10))\n",
    "    max_rate = int(random.gauss(mu + 55, 25))\n",
    "    while max_rate <= min_rate:\n",
    "        max_rate = int(random.gauss(mu + 55, 25))\n",
    "    avg = random.gauss((max_rate + min_rate) / 2, (max_rate - min_rate) / 5)\n",
    "    duration = random.randint(10, 90)\n",
    "    exercise = random.choice(['Running', 'Running', 'Running', 'Bicycling', 'Swimming', 'Swimming',\n",
    "                              'Weight training'])\n",
    "    row = [device, min_rate, max_rate, avg, duration, exercise]\n",
    "    workout_dict['ID'].append(id)\n",
    "    workout_dict['Measurement Device'].append(row[0])\n",
    "    workout_dict['Heart Rate Min'].append(row[1])\n",
    "    workout_dict['Heart Rate Max'].append(row[2])\n",
    "    workout_dict['Heart Rate Avg'].append(row[3])\n",
    "    workout_dict['Duration of exercise (min)'].append(row[4])\n",
    "    workout_dict['Exercise Type'].append(row[5])\n",
    "\n",
    "df = pd.DataFrame(workout_dict)"
   ]
  },
  {
   "cell_type": "markdown",
   "id": "1aeea400-82f5-43d1-9b93-d8210497ad7c",
   "metadata": {},
   "source": [
    "View the first 5 rows of the dataframe stored in the variable named \"df\":"
   ]
  },
  {
   "cell_type": "code",
   "execution_count": null,
   "id": "0ac0ea0c-07cc-413e-9b43-02b1d7670b04",
   "metadata": {},
   "outputs": [],
   "source": [
    "df.head()"
   ]
  },
  {
   "cell_type": "markdown",
   "id": "5956f87f",
   "metadata": {},
   "source": [
    "The id column uniquely identifies each row."
   ]
  },
  {
   "cell_type": "markdown",
   "id": "871ec11b-344a-4432-915d-1952d8bc7ea2",
   "metadata": {},
   "source": [
    "### Columns"
   ]
  },
  {
   "cell_type": "markdown",
   "id": "910621cc-d29f-48f7-9962-94dbad67660d",
   "metadata": {},
   "source": [
    "We will start by discussing how to view the names of the columns in the dataframe variable named `df`."
   ]
  },
  {
   "cell_type": "code",
   "execution_count": null,
   "id": "830ad26d-5585-470b-87b7-4b0beeba9784",
   "metadata": {},
   "outputs": [],
   "source": [
    "df.columns"
   ]
  },
  {
   "cell_type": "markdown",
   "id": "fcdbbaec",
   "metadata": {},
   "source": [
    "The code below demonstrates how to access the \"Exercise Type\" column."
   ]
  },
  {
   "cell_type": "code",
   "execution_count": null,
   "id": "338204d5",
   "metadata": {},
   "outputs": [],
   "source": [
    "df['Exercise Type']"
   ]
  },
  {
   "cell_type": "markdown",
   "id": "479eedf4",
   "metadata": {},
   "source": [
    "We can simply look up the column in the dataframe (which we have named `df`) by using the column name as the key.\n",
    "\n",
    "The column data type is a Pandas series. The values from this result on the right side are the values in the column. The values on the left are simply index values, which are unique for each row.\n",
    "The \"Length\" value gives the number of rows, and the \"dtype\" value indicates the \"data type\"."
   ]
  },
  {
   "cell_type": "code",
   "execution_count": null,
   "id": "0c00913f",
   "metadata": {},
   "outputs": [],
   "source": [
    "df['Heart Rate Max']"
   ]
  },
  {
   "cell_type": "markdown",
   "id": "175552bd",
   "metadata": {},
   "source": [
    "You can see that this column is dtype `int64`. That's a dtype for integer numbers , which these all are. The Heart Rate Avg column, which is numeric but not integers, will be a floating point number, probably `float64`. The numbers at the end don't matter as much, just remember that there are `int`s for integers, `float`s for non-integer numbers (ones with decimal points, really), and `object`s for text (and some other less common things).\n",
    "\n",
    "It is possible to loop over this column with a for loop. However, Pandas often has shortcuts for manipulating the data that make the for loop needed less often."
   ]
  },
  {
   "cell_type": "code",
   "execution_count": null,
   "id": "37db1fd9",
   "metadata": {},
   "outputs": [],
   "source": [
    "for x in df['Heart Rate Max']:\n",
    "    print(x)"
   ]
  },
  {
   "cell_type": "markdown",
   "id": "86976322",
   "metadata": {},
   "source": [
    "We can also access more than one column at once. We do this by passing a list of columns we want into the square brackets. Note that this means that we have two sets of square brackets, the inner one that defines the list and an outer one that says \"get me these items from the dataframe\"."
   ]
  },
  {
   "cell_type": "code",
   "execution_count": null,
   "id": "411dce22",
   "metadata": {},
   "outputs": [],
   "source": [
    "df[['ID', 'Measurement Device']]"
   ]
  },
  {
   "cell_type": "markdown",
   "id": "72892585",
   "metadata": {},
   "source": [
    "#### Try writing some code in the space below that accesses more than one column at once. Access these columns: Measurement Device, Heart Rate Min, and Duration."
   ]
  },
  {
   "cell_type": "code",
   "execution_count": 10,
   "id": "4065715f",
   "metadata": {},
   "outputs": [],
   "source": [
    "# put your code here\n"
   ]
  },
  {
   "cell_type": "markdown",
   "id": "699115aa-ca19-4fa9-a163-107d4b4dc91b",
   "metadata": {},
   "source": [
    "How do you find the column names? In small dataframes you can get the column names in the same way you check the data: `df.head()`. The `head` method prints out the first five rows of the dataframe by default, but you can type a number in between the parenthesis to make it show a different number of rows.\n",
    "\n",
    "`head` is a method of the dataframe. This means that you write `name of dataframe.head()`, and `head` then shows you the head of the dataframe you named. If your dataframe was named blood_counts_frame you would write `blood_counts_frame.head()`."
   ]
  },
  {
   "cell_type": "code",
   "execution_count": 11,
   "id": "05dac622",
   "metadata": {},
   "outputs": [
    {
     "data": {
      "text/html": [
       "<div>\n",
       "<style scoped>\n",
       "    .dataframe tbody tr th:only-of-type {\n",
       "        vertical-align: middle;\n",
       "    }\n",
       "\n",
       "    .dataframe tbody tr th {\n",
       "        vertical-align: top;\n",
       "    }\n",
       "\n",
       "    .dataframe thead th {\n",
       "        text-align: right;\n",
       "    }\n",
       "</style>\n",
       "<table border=\"1\" class=\"dataframe\">\n",
       "  <thead>\n",
       "    <tr style=\"text-align: right;\">\n",
       "      <th></th>\n",
       "      <th>ID</th>\n",
       "      <th>Measurement Device</th>\n",
       "      <th>Heart Rate Max</th>\n",
       "      <th>Heart Rate Min</th>\n",
       "      <th>Heart Rate Avg</th>\n",
       "      <th>Duration of exercise (min)</th>\n",
       "      <th>Exercise Type</th>\n",
       "    </tr>\n",
       "  </thead>\n",
       "  <tbody>\n",
       "    <tr>\n",
       "      <th>0</th>\n",
       "      <td>398732022</td>\n",
       "      <td>B-Wolf</td>\n",
       "      <td>143</td>\n",
       "      <td>55</td>\n",
       "      <td>94.673006</td>\n",
       "      <td>62</td>\n",
       "      <td>Bicycling</td>\n",
       "    </tr>\n",
       "    <tr>\n",
       "      <th>1</th>\n",
       "      <td>280021235</td>\n",
       "      <td>Skykandal</td>\n",
       "      <td>107</td>\n",
       "      <td>77</td>\n",
       "      <td>91.563278</td>\n",
       "      <td>17</td>\n",
       "      <td>Swimming</td>\n",
       "    </tr>\n",
       "    <tr>\n",
       "      <th>2</th>\n",
       "      <td>759363739</td>\n",
       "      <td>Skykandal</td>\n",
       "      <td>110</td>\n",
       "      <td>73</td>\n",
       "      <td>83.615608</td>\n",
       "      <td>73</td>\n",
       "      <td>Running</td>\n",
       "    </tr>\n",
       "    <tr>\n",
       "      <th>3</th>\n",
       "      <td>462116912</td>\n",
       "      <td>Skykandal</td>\n",
       "      <td>128</td>\n",
       "      <td>60</td>\n",
       "      <td>110.301923</td>\n",
       "      <td>21</td>\n",
       "      <td>Swimming</td>\n",
       "    </tr>\n",
       "    <tr>\n",
       "      <th>4</th>\n",
       "      <td>338882499</td>\n",
       "      <td>B-Wolf</td>\n",
       "      <td>125</td>\n",
       "      <td>69</td>\n",
       "      <td>102.651735</td>\n",
       "      <td>33</td>\n",
       "      <td>Swimming</td>\n",
       "    </tr>\n",
       "    <tr>\n",
       "      <th>5</th>\n",
       "      <td>810015125</td>\n",
       "      <td>B-Wolf</td>\n",
       "      <td>120</td>\n",
       "      <td>75</td>\n",
       "      <td>91.354866</td>\n",
       "      <td>77</td>\n",
       "      <td>Bicycling</td>\n",
       "    </tr>\n",
       "    <tr>\n",
       "      <th>6</th>\n",
       "      <td>925208321</td>\n",
       "      <td>B-Wolf</td>\n",
       "      <td>135</td>\n",
       "      <td>72</td>\n",
       "      <td>101.655862</td>\n",
       "      <td>62</td>\n",
       "      <td>Running</td>\n",
       "    </tr>\n",
       "    <tr>\n",
       "      <th>7</th>\n",
       "      <td>679479711</td>\n",
       "      <td>B-Wolf</td>\n",
       "      <td>159</td>\n",
       "      <td>76</td>\n",
       "      <td>100.531878</td>\n",
       "      <td>66</td>\n",
       "      <td>Weight training</td>\n",
       "    </tr>\n",
       "    <tr>\n",
       "      <th>8</th>\n",
       "      <td>895398919</td>\n",
       "      <td>Skykandal</td>\n",
       "      <td>124</td>\n",
       "      <td>72</td>\n",
       "      <td>87.986052</td>\n",
       "      <td>36</td>\n",
       "      <td>Bicycling</td>\n",
       "    </tr>\n",
       "    <tr>\n",
       "      <th>9</th>\n",
       "      <td>924739444</td>\n",
       "      <td>Skykandal</td>\n",
       "      <td>127</td>\n",
       "      <td>65</td>\n",
       "      <td>83.102863</td>\n",
       "      <td>55</td>\n",
       "      <td>Bicycling</td>\n",
       "    </tr>\n",
       "  </tbody>\n",
       "</table>\n",
       "</div>"
      ],
      "text/plain": [
       "          ID Measurement Device  Heart Rate Max  Heart Rate Min  \\\n",
       "0  398732022             B-Wolf             143              55   \n",
       "1  280021235          Skykandal             107              77   \n",
       "2  759363739          Skykandal             110              73   \n",
       "3  462116912          Skykandal             128              60   \n",
       "4  338882499             B-Wolf             125              69   \n",
       "5  810015125             B-Wolf             120              75   \n",
       "6  925208321             B-Wolf             135              72   \n",
       "7  679479711             B-Wolf             159              76   \n",
       "8  895398919          Skykandal             124              72   \n",
       "9  924739444          Skykandal             127              65   \n",
       "\n",
       "   Heart Rate Avg  Duration of exercise (min)    Exercise Type  \n",
       "0       94.673006                          62        Bicycling  \n",
       "1       91.563278                          17         Swimming  \n",
       "2       83.615608                          73          Running  \n",
       "3      110.301923                          21         Swimming  \n",
       "4      102.651735                          33         Swimming  \n",
       "5       91.354866                          77        Bicycling  \n",
       "6      101.655862                          62          Running  \n",
       "7      100.531878                          66  Weight training  \n",
       "8       87.986052                          36        Bicycling  \n",
       "9       83.102863                          55        Bicycling  "
      ]
     },
     "execution_count": 11,
     "metadata": {},
     "output_type": "execute_result"
    }
   ],
   "source": [
    "df.head(10)"
   ]
  },
  {
   "cell_type": "markdown",
   "id": "c9292066",
   "metadata": {},
   "source": [
    "This code allows you to print just the column names:"
   ]
  },
  {
   "cell_type": "code",
   "execution_count": null,
   "id": "a29efd41",
   "metadata": {},
   "outputs": [],
   "source": [
    "print(list(df.columns))"
   ]
  },
  {
   "cell_type": "markdown",
   "id": "312281ce",
   "metadata": {},
   "source": [
    "We can also rename a column in a dataframe. For instance, this code renames the column 'Heart Rate Max' to 'Max'. \n",
    "To do this we use the dataframe `rename` method."
   ]
  },
  {
   "cell_type": "code",
   "execution_count": null,
   "id": "d090d655",
   "metadata": {},
   "outputs": [],
   "source": [
    "df.rename(columns={'Heart Rate Max': 'Max'}, inplace=True)\n",
    "df.head()"
   ]
  },
  {
   "cell_type": "markdown",
   "id": "bf297222",
   "metadata": {},
   "source": [
    "As you can see, `rename` is a method that is \"attached\" to the dataframe, so we use dot notation for it and then it automatically knows what dataframe it is renaming. There are several ways to specify that we are renaming columns. I think the easiest one to read is the `columns` argument. `columns` then equals a dictionary where the key is the current column name and the value is the new name. Note that we then have a comma, because the whole `columns={'Heart Rate Max': 'Max'}` section was just the first argument.\n",
    "\n",
    "The `inplace` option is very common in pandas. When it is set to `True` whatever you are doing changes this dataframe. If it is set to `False` your operation generates a new dataframe that has been changed. By default it is `False`.\n",
    "\n",
    "Use of the `False` option is demonstrated here."
   ]
  },
  {
   "cell_type": "code",
   "execution_count": 14,
   "id": "5d36cdfa",
   "metadata": {},
   "outputs": [
    {
     "name": "stdout",
     "output_type": "stream",
     "text": [
      "Original dataframe column names: ['ID' 'Measurement Device' 'Max' 'Heart Rate Min' 'Heart Rate Avg'\n",
      " 'Duration of exercise (min)' 'Exercise Type']\n",
      "New dataframe column names: ['ID' 'Measurement Device' 'MAX!!!!' 'Heart Rate Min' 'Heart Rate Avg'\n",
      " 'Duration of exercise (min)' 'Exercise Type']\n"
     ]
    }
   ],
   "source": [
    "new_frame = df.rename(columns={'Max': 'MAX!!!!'}, inplace=False)\n",
    "print('Original dataframe column names:', df.columns.values)\n",
    "print('New dataframe column names:', new_frame.columns.values)"
   ]
  },
  {
   "cell_type": "markdown",
   "id": "d5b1920a",
   "metadata": {},
   "source": [
    "As you can see, Max was changed to MAX!!!! only in the new frame (imaginatively named \"new_frame\") and not in the original frame. This is very useful when you aren't sure if what you are doing will work the way you think it will, and don't want to mess up your original dataframe.\n",
    "\n",
    "Since the `columns` argument of `rename` takes a dictionary you can change as many column names at once as you want.\n",
    "\n",
    "#### Below, write code that changes the names of `Heart Rate Min` to `Min` and `Duration of exercise` to `Duration`. Then print one of them, using the new name, to make sure it worked."
   ]
  },
  {
   "cell_type": "code",
   "execution_count": 15,
   "id": "0f8b2dc2",
   "metadata": {},
   "outputs": [],
   "source": [
    "# put your code here\n"
   ]
  },
  {
   "cell_type": "markdown",
   "id": "738e1521",
   "metadata": {},
   "source": [
    "### Rows and Cells"
   ]
  },
  {
   "cell_type": "markdown",
   "id": "a8c5adcf",
   "metadata": {},
   "source": [
    "Accessing rows works off of the index column of the dataframe. We can print the index for each row below just to remind ourselves what it looks like."
   ]
  },
  {
   "cell_type": "code",
   "execution_count": null,
   "id": "741d52b0",
   "metadata": {},
   "outputs": [],
   "source": [
    "df.index.values"
   ]
  },
  {
   "cell_type": "markdown",
   "id": "1eaf1303",
   "metadata": {},
   "source": [
    "We can see that our index is just row numbers. In some cases it may be something different. You can reset the index to be the ID number, or anything else. But let's not do that, because that isn't useful for the sorts of things we're trying to do.\n",
    "\n",
    "Instead, we will use the `loc` method of the dataframe to locate the row we want, by its index. Note that `loc` uses square brackets, like indexing from a list. Below, we will print out the second row (the first row would be index 0)."
   ]
  },
  {
   "cell_type": "code",
   "execution_count": null,
   "id": "2c3ab350",
   "metadata": {},
   "outputs": [],
   "source": [
    "df.loc[1]"
   ]
  },
  {
   "cell_type": "markdown",
   "id": "16991f3a",
   "metadata": {},
   "source": [
    "We can also pass slice notation to `loc`. The code below replicates `df.head()`. It shows rows with index 0, 1, 2, 3, and 4."
   ]
  },
  {
   "cell_type": "code",
   "execution_count": null,
   "id": "65d5f2eb",
   "metadata": {},
   "outputs": [],
   "source": [
    "df.loc[0:4]"
   ]
  },
  {
   "cell_type": "markdown",
   "id": "d77b11b1",
   "metadata": {},
   "source": [
    "We can also use `loc` on a column, to give us a single cell. The code below gives us the ID at index 3."
   ]
  },
  {
   "cell_type": "code",
   "execution_count": null,
   "id": "c49e4e72",
   "metadata": {},
   "outputs": [],
   "source": [
    "df['ID'].loc[3]"
   ]
  },
  {
   "cell_type": "markdown",
   "id": "138af931",
   "metadata": {},
   "source": [
    "We can also do this with the multiple column lookup."
   ]
  },
  {
   "cell_type": "code",
   "execution_count": null,
   "id": "600b66c1",
   "metadata": {},
   "outputs": [],
   "source": [
    "df[['ID', 'Measurement Device']].loc[3]"
   ]
  },
  {
   "cell_type": "markdown",
   "id": "aeef14eb",
   "metadata": {},
   "source": [
    "We can also get a cell directly with `loc` by specifying both row and column. If you give `loc` a tuple it will assume that it is (row, column). The code below will return the maximum heart rate ('Max') for the fourth row (index 3)."
   ]
  },
  {
   "cell_type": "code",
   "execution_count": 21,
   "id": "245471ca",
   "metadata": {},
   "outputs": [
    {
     "data": {
      "text/plain": [
       "np.int64(128)"
      ]
     },
     "execution_count": 21,
     "metadata": {},
     "output_type": "execute_result"
    }
   ],
   "source": [
    "df.loc[(3, 'Max')]"
   ]
  },
  {
   "cell_type": "markdown",
   "id": "1693201c-f47a-4d1c-a624-fd5f4cb027d3",
   "metadata": {},
   "source": [
    "You can also get both multiple columns and multiple rows, to get a sub-dataframe."
   ]
  },
  {
   "cell_type": "code",
   "execution_count": null,
   "id": "c1a755ad-ce96-45a3-ace3-ff46de814aac",
   "metadata": {},
   "outputs": [],
   "source": [
    "df[['ID', 'Measurement Device']].loc[1:3]"
   ]
  },
  {
   "cell_type": "markdown",
   "id": "f4bca2fa",
   "metadata": {},
   "source": [
    "#### Below, write some code that does the inverse of `head` and prints the last five rows of the dataframe. However, leave out the ID column."
   ]
  },
  {
   "cell_type": "code",
   "execution_count": 23,
   "id": "74a83358",
   "metadata": {},
   "outputs": [],
   "source": [
    "# your code goes here\n"
   ]
  },
  {
   "cell_type": "markdown",
   "id": "554c9061",
   "metadata": {},
   "source": [
    "(If you actually just want the inverse of `head` there's a command `tail` that does this. However, the purpose of the exercise above is practice.)"
   ]
  },
  {
   "cell_type": "markdown",
   "id": "c2e6ef51",
   "metadata": {},
   "source": [
    "### Modifying Dataframes"
   ]
  },
  {
   "cell_type": "markdown",
   "id": "64b7288a",
   "metadata": {},
   "source": [
    "Adding a column to a dataframe is quite easy. Below, we will create a column that is simply the maximum heart rate divided by 2."
   ]
  },
  {
   "cell_type": "code",
   "execution_count": null,
   "id": "d61a663b-b59d-4173-8ee1-6a5cc901b561",
   "metadata": {},
   "outputs": [],
   "source": [
    "df.head()"
   ]
  },
  {
   "cell_type": "code",
   "execution_count": null,
   "id": "1460caaa-24a0-43c6-99d3-b669fdceeb39",
   "metadata": {},
   "outputs": [],
   "source": [
    "df['A'] = 'A'\n",
    "df.head()"
   ]
  },
  {
   "cell_type": "code",
   "execution_count": null,
   "id": "78215145",
   "metadata": {
    "scrolled": true
   },
   "outputs": [],
   "source": [
    "df['Max minus 2'] = df['Max'] - 2\n",
    "df.head()"
   ]
  },
  {
   "cell_type": "markdown",
   "id": "efcd57ea",
   "metadata": {},
   "source": [
    "All we had to do here was name a new column (much like adding a key to a dictionary) and set it equal to something else.\n",
    "\n",
    "However, the thing we set it equal to must be either a single item or a list equal in length to the other columns. The code below shows what happens with a single item: it is just repeated in every cell of that column."
   ]
  },
  {
   "cell_type": "code",
   "execution_count": 27,
   "id": "8f648a3d",
   "metadata": {},
   "outputs": [
    {
     "data": {
      "text/html": [
       "<div>\n",
       "<style scoped>\n",
       "    .dataframe tbody tr th:only-of-type {\n",
       "        vertical-align: middle;\n",
       "    }\n",
       "\n",
       "    .dataframe tbody tr th {\n",
       "        vertical-align: top;\n",
       "    }\n",
       "\n",
       "    .dataframe thead th {\n",
       "        text-align: right;\n",
       "    }\n",
       "</style>\n",
       "<table border=\"1\" class=\"dataframe\">\n",
       "  <thead>\n",
       "    <tr style=\"text-align: right;\">\n",
       "      <th></th>\n",
       "      <th>ID</th>\n",
       "      <th>Measurement Device</th>\n",
       "      <th>Max</th>\n",
       "      <th>Heart Rate Min</th>\n",
       "      <th>Heart Rate Avg</th>\n",
       "      <th>Duration of exercise (min)</th>\n",
       "      <th>Exercise Type</th>\n",
       "      <th>A</th>\n",
       "      <th>Max minus 2</th>\n",
       "      <th>Two</th>\n",
       "    </tr>\n",
       "  </thead>\n",
       "  <tbody>\n",
       "    <tr>\n",
       "      <th>0</th>\n",
       "      <td>398732022</td>\n",
       "      <td>B-Wolf</td>\n",
       "      <td>143</td>\n",
       "      <td>55</td>\n",
       "      <td>94.673006</td>\n",
       "      <td>62</td>\n",
       "      <td>Bicycling</td>\n",
       "      <td>A</td>\n",
       "      <td>141</td>\n",
       "      <td>2</td>\n",
       "    </tr>\n",
       "    <tr>\n",
       "      <th>1</th>\n",
       "      <td>280021235</td>\n",
       "      <td>Skykandal</td>\n",
       "      <td>107</td>\n",
       "      <td>77</td>\n",
       "      <td>91.563278</td>\n",
       "      <td>17</td>\n",
       "      <td>Swimming</td>\n",
       "      <td>A</td>\n",
       "      <td>105</td>\n",
       "      <td>2</td>\n",
       "    </tr>\n",
       "    <tr>\n",
       "      <th>2</th>\n",
       "      <td>759363739</td>\n",
       "      <td>Skykandal</td>\n",
       "      <td>110</td>\n",
       "      <td>73</td>\n",
       "      <td>83.615608</td>\n",
       "      <td>73</td>\n",
       "      <td>Running</td>\n",
       "      <td>A</td>\n",
       "      <td>108</td>\n",
       "      <td>2</td>\n",
       "    </tr>\n",
       "    <tr>\n",
       "      <th>3</th>\n",
       "      <td>462116912</td>\n",
       "      <td>Skykandal</td>\n",
       "      <td>128</td>\n",
       "      <td>60</td>\n",
       "      <td>110.301923</td>\n",
       "      <td>21</td>\n",
       "      <td>Swimming</td>\n",
       "      <td>A</td>\n",
       "      <td>126</td>\n",
       "      <td>2</td>\n",
       "    </tr>\n",
       "    <tr>\n",
       "      <th>4</th>\n",
       "      <td>338882499</td>\n",
       "      <td>B-Wolf</td>\n",
       "      <td>125</td>\n",
       "      <td>69</td>\n",
       "      <td>102.651735</td>\n",
       "      <td>33</td>\n",
       "      <td>Swimming</td>\n",
       "      <td>A</td>\n",
       "      <td>123</td>\n",
       "      <td>2</td>\n",
       "    </tr>\n",
       "  </tbody>\n",
       "</table>\n",
       "</div>"
      ],
      "text/plain": [
       "          ID Measurement Device  Max  Heart Rate Min  Heart Rate Avg  \\\n",
       "0  398732022             B-Wolf  143              55       94.673006   \n",
       "1  280021235          Skykandal  107              77       91.563278   \n",
       "2  759363739          Skykandal  110              73       83.615608   \n",
       "3  462116912          Skykandal  128              60      110.301923   \n",
       "4  338882499             B-Wolf  125              69      102.651735   \n",
       "\n",
       "   Duration of exercise (min) Exercise Type  A  Max minus 2  Two  \n",
       "0                          62     Bicycling  A          141    2  \n",
       "1                          17      Swimming  A          105    2  \n",
       "2                          73       Running  A          108    2  \n",
       "3                          21      Swimming  A          126    2  \n",
       "4                          33      Swimming  A          123    2  "
      ]
     },
     "execution_count": 27,
     "metadata": {},
     "output_type": "execute_result"
    }
   ],
   "source": [
    "df['Two'] = 2\n",
    "df.head()"
   ]
  },
  {
   "cell_type": "markdown",
   "id": "97dd0293",
   "metadata": {},
   "source": [
    "This will break. We're specifying a length for the column, but it's two, and the other columns are length 500."
   ]
  },
  {
   "cell_type": "code",
   "execution_count": 28,
   "id": "4be3a6fd",
   "metadata": {},
   "outputs": [
    {
     "ename": "ValueError",
     "evalue": "Length of values (2) does not match length of index (500)",
     "output_type": "error",
     "traceback": [
      "\u001b[0;31m---------------------------------------------------------------------------\u001b[0m",
      "\u001b[0;31mValueError\u001b[0m                                Traceback (most recent call last)",
      "Cell \u001b[0;32mIn[28], line 1\u001b[0m\n\u001b[0;32m----> 1\u001b[0m \u001b[43mdf\u001b[49m\u001b[43m[\u001b[49m\u001b[38;5;124;43m'\u001b[39;49m\u001b[38;5;124;43mBreaking\u001b[39;49m\u001b[38;5;124;43m'\u001b[39;49m\u001b[43m]\u001b[49m \u001b[38;5;241m=\u001b[39m [\u001b[38;5;241m2\u001b[39m, \u001b[38;5;241m2\u001b[39m]\n",
      "File \u001b[0;32m~/opt/anaconda3/envs/all_of_us_python_course/lib/python3.9/site-packages/pandas/core/frame.py:4311\u001b[0m, in \u001b[0;36mDataFrame.__setitem__\u001b[0;34m(self, key, value)\u001b[0m\n\u001b[1;32m   4308\u001b[0m     \u001b[38;5;28mself\u001b[39m\u001b[38;5;241m.\u001b[39m_setitem_array([key], value)\n\u001b[1;32m   4309\u001b[0m \u001b[38;5;28;01melse\u001b[39;00m:\n\u001b[1;32m   4310\u001b[0m     \u001b[38;5;66;03m# set column\u001b[39;00m\n\u001b[0;32m-> 4311\u001b[0m     \u001b[38;5;28;43mself\u001b[39;49m\u001b[38;5;241;43m.\u001b[39;49m\u001b[43m_set_item\u001b[49m\u001b[43m(\u001b[49m\u001b[43mkey\u001b[49m\u001b[43m,\u001b[49m\u001b[43m \u001b[49m\u001b[43mvalue\u001b[49m\u001b[43m)\u001b[49m\n",
      "File \u001b[0;32m~/opt/anaconda3/envs/all_of_us_python_course/lib/python3.9/site-packages/pandas/core/frame.py:4524\u001b[0m, in \u001b[0;36mDataFrame._set_item\u001b[0;34m(self, key, value)\u001b[0m\n\u001b[1;32m   4514\u001b[0m \u001b[38;5;28;01mdef\u001b[39;00m \u001b[38;5;21m_set_item\u001b[39m(\u001b[38;5;28mself\u001b[39m, key, value) \u001b[38;5;241m-\u001b[39m\u001b[38;5;241m>\u001b[39m \u001b[38;5;28;01mNone\u001b[39;00m:\n\u001b[1;32m   4515\u001b[0m \u001b[38;5;250m    \u001b[39m\u001b[38;5;124;03m\"\"\"\u001b[39;00m\n\u001b[1;32m   4516\u001b[0m \u001b[38;5;124;03m    Add series to DataFrame in specified column.\u001b[39;00m\n\u001b[1;32m   4517\u001b[0m \n\u001b[0;32m   (...)\u001b[0m\n\u001b[1;32m   4522\u001b[0m \u001b[38;5;124;03m    ensure homogeneity.\u001b[39;00m\n\u001b[1;32m   4523\u001b[0m \u001b[38;5;124;03m    \"\"\"\u001b[39;00m\n\u001b[0;32m-> 4524\u001b[0m     value, refs \u001b[38;5;241m=\u001b[39m \u001b[38;5;28;43mself\u001b[39;49m\u001b[38;5;241;43m.\u001b[39;49m\u001b[43m_sanitize_column\u001b[49m\u001b[43m(\u001b[49m\u001b[43mvalue\u001b[49m\u001b[43m)\u001b[49m\n\u001b[1;32m   4526\u001b[0m     \u001b[38;5;28;01mif\u001b[39;00m (\n\u001b[1;32m   4527\u001b[0m         key \u001b[38;5;129;01min\u001b[39;00m \u001b[38;5;28mself\u001b[39m\u001b[38;5;241m.\u001b[39mcolumns\n\u001b[1;32m   4528\u001b[0m         \u001b[38;5;129;01mand\u001b[39;00m value\u001b[38;5;241m.\u001b[39mndim \u001b[38;5;241m==\u001b[39m \u001b[38;5;241m1\u001b[39m\n\u001b[1;32m   4529\u001b[0m         \u001b[38;5;129;01mand\u001b[39;00m \u001b[38;5;129;01mnot\u001b[39;00m \u001b[38;5;28misinstance\u001b[39m(value\u001b[38;5;241m.\u001b[39mdtype, ExtensionDtype)\n\u001b[1;32m   4530\u001b[0m     ):\n\u001b[1;32m   4531\u001b[0m         \u001b[38;5;66;03m# broadcast across multiple columns if necessary\u001b[39;00m\n\u001b[1;32m   4532\u001b[0m         \u001b[38;5;28;01mif\u001b[39;00m \u001b[38;5;129;01mnot\u001b[39;00m \u001b[38;5;28mself\u001b[39m\u001b[38;5;241m.\u001b[39mcolumns\u001b[38;5;241m.\u001b[39mis_unique \u001b[38;5;129;01mor\u001b[39;00m \u001b[38;5;28misinstance\u001b[39m(\u001b[38;5;28mself\u001b[39m\u001b[38;5;241m.\u001b[39mcolumns, MultiIndex):\n",
      "File \u001b[0;32m~/opt/anaconda3/envs/all_of_us_python_course/lib/python3.9/site-packages/pandas/core/frame.py:5266\u001b[0m, in \u001b[0;36mDataFrame._sanitize_column\u001b[0;34m(self, value)\u001b[0m\n\u001b[1;32m   5263\u001b[0m     \u001b[38;5;28;01mreturn\u001b[39;00m _reindex_for_setitem(value, \u001b[38;5;28mself\u001b[39m\u001b[38;5;241m.\u001b[39mindex)\n\u001b[1;32m   5265\u001b[0m \u001b[38;5;28;01mif\u001b[39;00m is_list_like(value):\n\u001b[0;32m-> 5266\u001b[0m     \u001b[43mcom\u001b[49m\u001b[38;5;241;43m.\u001b[39;49m\u001b[43mrequire_length_match\u001b[49m\u001b[43m(\u001b[49m\u001b[43mvalue\u001b[49m\u001b[43m,\u001b[49m\u001b[43m \u001b[49m\u001b[38;5;28;43mself\u001b[39;49m\u001b[38;5;241;43m.\u001b[39;49m\u001b[43mindex\u001b[49m\u001b[43m)\u001b[49m\n\u001b[1;32m   5267\u001b[0m arr \u001b[38;5;241m=\u001b[39m sanitize_array(value, \u001b[38;5;28mself\u001b[39m\u001b[38;5;241m.\u001b[39mindex, copy\u001b[38;5;241m=\u001b[39m\u001b[38;5;28;01mTrue\u001b[39;00m, allow_2d\u001b[38;5;241m=\u001b[39m\u001b[38;5;28;01mTrue\u001b[39;00m)\n\u001b[1;32m   5268\u001b[0m \u001b[38;5;28;01mif\u001b[39;00m (\n\u001b[1;32m   5269\u001b[0m     \u001b[38;5;28misinstance\u001b[39m(value, Index)\n\u001b[1;32m   5270\u001b[0m     \u001b[38;5;129;01mand\u001b[39;00m value\u001b[38;5;241m.\u001b[39mdtype \u001b[38;5;241m==\u001b[39m \u001b[38;5;124m\"\u001b[39m\u001b[38;5;124mobject\u001b[39m\u001b[38;5;124m\"\u001b[39m\n\u001b[0;32m   (...)\u001b[0m\n\u001b[1;32m   5273\u001b[0m     \u001b[38;5;66;03m# TODO: Remove kludge in sanitize_array for string mode when enforcing\u001b[39;00m\n\u001b[1;32m   5274\u001b[0m     \u001b[38;5;66;03m# this deprecation\u001b[39;00m\n",
      "File \u001b[0;32m~/opt/anaconda3/envs/all_of_us_python_course/lib/python3.9/site-packages/pandas/core/common.py:573\u001b[0m, in \u001b[0;36mrequire_length_match\u001b[0;34m(data, index)\u001b[0m\n\u001b[1;32m    569\u001b[0m \u001b[38;5;250m\u001b[39m\u001b[38;5;124;03m\"\"\"\u001b[39;00m\n\u001b[1;32m    570\u001b[0m \u001b[38;5;124;03mCheck the length of data matches the length of the index.\u001b[39;00m\n\u001b[1;32m    571\u001b[0m \u001b[38;5;124;03m\"\"\"\u001b[39;00m\n\u001b[1;32m    572\u001b[0m \u001b[38;5;28;01mif\u001b[39;00m \u001b[38;5;28mlen\u001b[39m(data) \u001b[38;5;241m!=\u001b[39m \u001b[38;5;28mlen\u001b[39m(index):\n\u001b[0;32m--> 573\u001b[0m     \u001b[38;5;28;01mraise\u001b[39;00m \u001b[38;5;167;01mValueError\u001b[39;00m(\n\u001b[1;32m    574\u001b[0m         \u001b[38;5;124m\"\u001b[39m\u001b[38;5;124mLength of values \u001b[39m\u001b[38;5;124m\"\u001b[39m\n\u001b[1;32m    575\u001b[0m         \u001b[38;5;124mf\u001b[39m\u001b[38;5;124m\"\u001b[39m\u001b[38;5;124m(\u001b[39m\u001b[38;5;132;01m{\u001b[39;00m\u001b[38;5;28mlen\u001b[39m(data)\u001b[38;5;132;01m}\u001b[39;00m\u001b[38;5;124m) \u001b[39m\u001b[38;5;124m\"\u001b[39m\n\u001b[1;32m    576\u001b[0m         \u001b[38;5;124m\"\u001b[39m\u001b[38;5;124mdoes not match length of index \u001b[39m\u001b[38;5;124m\"\u001b[39m\n\u001b[1;32m    577\u001b[0m         \u001b[38;5;124mf\u001b[39m\u001b[38;5;124m\"\u001b[39m\u001b[38;5;124m(\u001b[39m\u001b[38;5;132;01m{\u001b[39;00m\u001b[38;5;28mlen\u001b[39m(index)\u001b[38;5;132;01m}\u001b[39;00m\u001b[38;5;124m)\u001b[39m\u001b[38;5;124m\"\u001b[39m\n\u001b[1;32m    578\u001b[0m     )\n",
      "\u001b[0;31mValueError\u001b[0m: Length of values (2) does not match length of index (500)"
     ]
    }
   ],
   "source": [
    "df['Breaking'] = [2, 2]"
   ]
  },
  {
   "cell_type": "markdown",
   "id": "41c382f8",
   "metadata": {},
   "source": [
    "In later notebooks we'll generate data the same length as existing columns and fill new columns with it. For now, just remember not to fill a column with data that has a length but is the wrong length.\n",
    "\n",
    "How do we remove a column? We use the `drop` method, which has a similar argument structure to `rename`. Here we just list the column names to drop. Again, `inplace=True` means \"do this to the current dataframe\".\n",
    "\n",
    "The code below drops/removes the column named 'Two'."
   ]
  },
  {
   "cell_type": "code",
   "execution_count": 29,
   "id": "483c88ef",
   "metadata": {},
   "outputs": [
    {
     "data": {
      "text/html": [
       "<div>\n",
       "<style scoped>\n",
       "    .dataframe tbody tr th:only-of-type {\n",
       "        vertical-align: middle;\n",
       "    }\n",
       "\n",
       "    .dataframe tbody tr th {\n",
       "        vertical-align: top;\n",
       "    }\n",
       "\n",
       "    .dataframe thead th {\n",
       "        text-align: right;\n",
       "    }\n",
       "</style>\n",
       "<table border=\"1\" class=\"dataframe\">\n",
       "  <thead>\n",
       "    <tr style=\"text-align: right;\">\n",
       "      <th></th>\n",
       "      <th>ID</th>\n",
       "      <th>Measurement Device</th>\n",
       "      <th>Max</th>\n",
       "      <th>Heart Rate Min</th>\n",
       "      <th>Heart Rate Avg</th>\n",
       "      <th>Duration of exercise (min)</th>\n",
       "      <th>Exercise Type</th>\n",
       "      <th>A</th>\n",
       "      <th>Max minus 2</th>\n",
       "    </tr>\n",
       "  </thead>\n",
       "  <tbody>\n",
       "    <tr>\n",
       "      <th>0</th>\n",
       "      <td>398732022</td>\n",
       "      <td>B-Wolf</td>\n",
       "      <td>143</td>\n",
       "      <td>55</td>\n",
       "      <td>94.673006</td>\n",
       "      <td>62</td>\n",
       "      <td>Bicycling</td>\n",
       "      <td>A</td>\n",
       "      <td>141</td>\n",
       "    </tr>\n",
       "    <tr>\n",
       "      <th>1</th>\n",
       "      <td>280021235</td>\n",
       "      <td>Skykandal</td>\n",
       "      <td>107</td>\n",
       "      <td>77</td>\n",
       "      <td>91.563278</td>\n",
       "      <td>17</td>\n",
       "      <td>Swimming</td>\n",
       "      <td>A</td>\n",
       "      <td>105</td>\n",
       "    </tr>\n",
       "    <tr>\n",
       "      <th>2</th>\n",
       "      <td>759363739</td>\n",
       "      <td>Skykandal</td>\n",
       "      <td>110</td>\n",
       "      <td>73</td>\n",
       "      <td>83.615608</td>\n",
       "      <td>73</td>\n",
       "      <td>Running</td>\n",
       "      <td>A</td>\n",
       "      <td>108</td>\n",
       "    </tr>\n",
       "    <tr>\n",
       "      <th>3</th>\n",
       "      <td>462116912</td>\n",
       "      <td>Skykandal</td>\n",
       "      <td>128</td>\n",
       "      <td>60</td>\n",
       "      <td>110.301923</td>\n",
       "      <td>21</td>\n",
       "      <td>Swimming</td>\n",
       "      <td>A</td>\n",
       "      <td>126</td>\n",
       "    </tr>\n",
       "    <tr>\n",
       "      <th>4</th>\n",
       "      <td>338882499</td>\n",
       "      <td>B-Wolf</td>\n",
       "      <td>125</td>\n",
       "      <td>69</td>\n",
       "      <td>102.651735</td>\n",
       "      <td>33</td>\n",
       "      <td>Swimming</td>\n",
       "      <td>A</td>\n",
       "      <td>123</td>\n",
       "    </tr>\n",
       "  </tbody>\n",
       "</table>\n",
       "</div>"
      ],
      "text/plain": [
       "          ID Measurement Device  Max  Heart Rate Min  Heart Rate Avg  \\\n",
       "0  398732022             B-Wolf  143              55       94.673006   \n",
       "1  280021235          Skykandal  107              77       91.563278   \n",
       "2  759363739          Skykandal  110              73       83.615608   \n",
       "3  462116912          Skykandal  128              60      110.301923   \n",
       "4  338882499             B-Wolf  125              69      102.651735   \n",
       "\n",
       "   Duration of exercise (min) Exercise Type  A  Max minus 2  \n",
       "0                          62     Bicycling  A          141  \n",
       "1                          17      Swimming  A          105  \n",
       "2                          73       Running  A          108  \n",
       "3                          21      Swimming  A          126  \n",
       "4                          33      Swimming  A          123  "
      ]
     },
     "execution_count": 29,
     "metadata": {},
     "output_type": "execute_result"
    }
   ],
   "source": [
    "df.drop(columns=['Two'], inplace=True)\n",
    "df.head()"
   ]
  },
  {
   "cell_type": "markdown",
   "id": "987de1ec",
   "metadata": {},
   "source": [
    "If you run that code above again it will fail, since the column Two no longer exists to be dropped.\n",
    "\n",
    "The `drop` command can also be used to drop rows. By default, `drop` actually expects you to drop rows, and so you can simply provide an index to drop."
   ]
  },
  {
   "cell_type": "code",
   "execution_count": 30,
   "id": "822c091b",
   "metadata": {},
   "outputs": [
    {
     "data": {
      "text/html": [
       "<div>\n",
       "<style scoped>\n",
       "    .dataframe tbody tr th:only-of-type {\n",
       "        vertical-align: middle;\n",
       "    }\n",
       "\n",
       "    .dataframe tbody tr th {\n",
       "        vertical-align: top;\n",
       "    }\n",
       "\n",
       "    .dataframe thead th {\n",
       "        text-align: right;\n",
       "    }\n",
       "</style>\n",
       "<table border=\"1\" class=\"dataframe\">\n",
       "  <thead>\n",
       "    <tr style=\"text-align: right;\">\n",
       "      <th></th>\n",
       "      <th>ID</th>\n",
       "      <th>Measurement Device</th>\n",
       "      <th>Max</th>\n",
       "      <th>Heart Rate Min</th>\n",
       "      <th>Heart Rate Avg</th>\n",
       "      <th>Duration of exercise (min)</th>\n",
       "      <th>Exercise Type</th>\n",
       "      <th>A</th>\n",
       "      <th>Max minus 2</th>\n",
       "    </tr>\n",
       "  </thead>\n",
       "  <tbody>\n",
       "    <tr>\n",
       "      <th>1</th>\n",
       "      <td>280021235</td>\n",
       "      <td>Skykandal</td>\n",
       "      <td>107</td>\n",
       "      <td>77</td>\n",
       "      <td>91.563278</td>\n",
       "      <td>17</td>\n",
       "      <td>Swimming</td>\n",
       "      <td>A</td>\n",
       "      <td>105</td>\n",
       "    </tr>\n",
       "    <tr>\n",
       "      <th>2</th>\n",
       "      <td>759363739</td>\n",
       "      <td>Skykandal</td>\n",
       "      <td>110</td>\n",
       "      <td>73</td>\n",
       "      <td>83.615608</td>\n",
       "      <td>73</td>\n",
       "      <td>Running</td>\n",
       "      <td>A</td>\n",
       "      <td>108</td>\n",
       "    </tr>\n",
       "    <tr>\n",
       "      <th>3</th>\n",
       "      <td>462116912</td>\n",
       "      <td>Skykandal</td>\n",
       "      <td>128</td>\n",
       "      <td>60</td>\n",
       "      <td>110.301923</td>\n",
       "      <td>21</td>\n",
       "      <td>Swimming</td>\n",
       "      <td>A</td>\n",
       "      <td>126</td>\n",
       "    </tr>\n",
       "    <tr>\n",
       "      <th>4</th>\n",
       "      <td>338882499</td>\n",
       "      <td>B-Wolf</td>\n",
       "      <td>125</td>\n",
       "      <td>69</td>\n",
       "      <td>102.651735</td>\n",
       "      <td>33</td>\n",
       "      <td>Swimming</td>\n",
       "      <td>A</td>\n",
       "      <td>123</td>\n",
       "    </tr>\n",
       "    <tr>\n",
       "      <th>5</th>\n",
       "      <td>810015125</td>\n",
       "      <td>B-Wolf</td>\n",
       "      <td>120</td>\n",
       "      <td>75</td>\n",
       "      <td>91.354866</td>\n",
       "      <td>77</td>\n",
       "      <td>Bicycling</td>\n",
       "      <td>A</td>\n",
       "      <td>118</td>\n",
       "    </tr>\n",
       "  </tbody>\n",
       "</table>\n",
       "</div>"
      ],
      "text/plain": [
       "          ID Measurement Device  Max  Heart Rate Min  Heart Rate Avg  \\\n",
       "1  280021235          Skykandal  107              77       91.563278   \n",
       "2  759363739          Skykandal  110              73       83.615608   \n",
       "3  462116912          Skykandal  128              60      110.301923   \n",
       "4  338882499             B-Wolf  125              69      102.651735   \n",
       "5  810015125             B-Wolf  120              75       91.354866   \n",
       "\n",
       "   Duration of exercise (min) Exercise Type  A  Max minus 2  \n",
       "1                          17      Swimming  A          105  \n",
       "2                          73       Running  A          108  \n",
       "3                          21      Swimming  A          126  \n",
       "4                          33      Swimming  A          123  \n",
       "5                          77     Bicycling  A          118  "
      ]
     },
     "execution_count": 30,
     "metadata": {},
     "output_type": "execute_result"
    }
   ],
   "source": [
    "df.drop(0, inplace=True)\n",
    "df.head()"
   ]
  },
  {
   "cell_type": "markdown",
   "id": "cb3b5920",
   "metadata": {},
   "source": [
    "However, while column creation and deletion are common in analysis, adding and deleting rows is less useful. Most row deletion happens as part of filtering, which we will cover in an upcoming notebook.\n",
    "\n",
    "Creating rows is less useful (normally), and is somewhat harder to do. To add a row you create an entire new dataframe and then use the `concat` function to add the dataframes together. We won't cover this further here."
   ]
  },
  {
   "cell_type": "markdown",
   "id": "a55be2b1",
   "metadata": {},
   "source": [
    "### Creating Dataframes\n",
    "Creating dataframes can be useful in analysis. You may want to process data and make a new frame from the processed data only. So, how do we make a dataframe? The easiest way is to make a dictionary and then use `pd.DataFrame` to make it into a dataframe.\n",
    "\n",
    "Why `pd.DataFrame`? `DataFrame` is a function from the pandas library. The `pd.DataFrame` notation means \"DataFrame, from the pandas library\" (much like `df.head()` means \"head, of the frame df\"). This is one reason we want to import pandas and change the name to pd, because we'll type pd a lot doing analysis with pandas."
   ]
  },
  {
   "cell_type": "code",
   "execution_count": 31,
   "id": "df066965",
   "metadata": {},
   "outputs": [
    {
     "data": {
      "text/html": [
       "<div>\n",
       "<style scoped>\n",
       "    .dataframe tbody tr th:only-of-type {\n",
       "        vertical-align: middle;\n",
       "    }\n",
       "\n",
       "    .dataframe tbody tr th {\n",
       "        vertical-align: top;\n",
       "    }\n",
       "\n",
       "    .dataframe thead th {\n",
       "        text-align: right;\n",
       "    }\n",
       "</style>\n",
       "<table border=\"1\" class=\"dataframe\">\n",
       "  <thead>\n",
       "    <tr style=\"text-align: right;\">\n",
       "      <th></th>\n",
       "      <th>Column One</th>\n",
       "      <th>Column Two</th>\n",
       "      <th>Colum Three</th>\n",
       "    </tr>\n",
       "  </thead>\n",
       "  <tbody>\n",
       "    <tr>\n",
       "      <th>0</th>\n",
       "      <td>1</td>\n",
       "      <td>20</td>\n",
       "      <td>C</td>\n",
       "    </tr>\n",
       "    <tr>\n",
       "      <th>1</th>\n",
       "      <td>2</td>\n",
       "      <td>78</td>\n",
       "      <td>K</td>\n",
       "    </tr>\n",
       "  </tbody>\n",
       "</table>\n",
       "</div>"
      ],
      "text/plain": [
       "   Column One  Column Two Colum Three\n",
       "0           1          20           C\n",
       "1           2          78           K"
      ]
     },
     "execution_count": 31,
     "metadata": {},
     "output_type": "execute_result"
    }
   ],
   "source": [
    "test_dict = {'Column One': [1, 2], 'Column Two': [20, 78], 'Colum Three': ['C', 'K']}\n",
    "new_df = pd.DataFrame(test_dict)\n",
    "new_df.head()"
   ]
  },
  {
   "cell_type": "markdown",
   "id": "ca688818",
   "metadata": {},
   "source": [
    "#### Below, make a dictionary with at least three keys. One of the lists of values should be all numbers. Then turn it into a dataframe and use `head` to check that it worked."
   ]
  },
  {
   "cell_type": "code",
   "execution_count": 32,
   "id": "3d34c16e",
   "metadata": {},
   "outputs": [],
   "source": [
    "# your code goes here\n"
   ]
  },
  {
   "cell_type": "markdown",
   "id": "f2d660d9",
   "metadata": {},
   "source": [
    "#### Now, create a new column that is your column of numbers divided by two. Again, use `head` to check your work."
   ]
  },
  {
   "cell_type": "code",
   "execution_count": 33,
   "id": "db336d69",
   "metadata": {},
   "outputs": [],
   "source": [
    "# your code goes here\n"
   ]
  },
  {
   "cell_type": "markdown",
   "id": "0861dcc6",
   "metadata": {},
   "source": [
    "#### Finally, drop one of your columns. As before, use `head` to check that it happened correctly."
   ]
  },
  {
   "cell_type": "code",
   "execution_count": 34,
   "id": "97c2afd7",
   "metadata": {},
   "outputs": [],
   "source": [
    "# your code goes here\n"
   ]
  },
  {
   "cell_type": "markdown",
   "id": "53d40244",
   "metadata": {},
   "source": [
    "### Combining Dataframes\n",
    "\n",
    "When you load your data from the workbench, there is a high likelihood that you will have to combine two pre-existing dataframes together to make a new dataframe. For instance, there may be a dataframe representing people, and another dataframe representing medication prescriptions. Before combining these dataframes, each row in the person dataframe will represent a different person. The medication prescriptions dataframe will have one column with a person_id, and other information in other columns with information on medications that someone is prescribed, such as the medication name, and prescription date. To use information from both of these tables at once, you will need to join or merge by the person_id column that exists in both dataframes.\n",
    "\n",
    "We will need some very small dataframes to see this behavior in."
   ]
  },
  {
   "cell_type": "code",
   "execution_count": 35,
   "id": "eb57e9a7",
   "metadata": {},
   "outputs": [],
   "source": [
    "dict_1 = {'ID': [1, 3, 5, 7, 9], 'B': [True, True, False, True, False]}\n",
    "dict_2 = {'ID': [1, 2, 3, 4, 5], 'C': [57, 89, 23, 12, 65]}\n",
    "dict_3 = {'ID_num': [1, 2, 3, 4, 5], 'C': [57, 89, 23, 12, 65]}\n",
    "dict_4 = {'ID': [1, 2, 3, 4, 5], 'B': [57, 89, 23, 12, 65]}\n",
    "\n",
    "frame_1 = pd.DataFrame(dict_1)\n",
    "frame_2 = pd.DataFrame(dict_2)\n",
    "frame_3 = pd.DataFrame(dict_3)\n",
    "frame_4 = pd.DataFrame(dict_4)"
   ]
  },
  {
   "cell_type": "markdown",
   "id": "4318db11",
   "metadata": {},
   "source": [
    "frame_1 and frame_2 are meant to be matched. Each contains some of the same IDs but different variables in each frame. frame_3 is frame_2 but now ID is ID_num. frame_4 is frame_2 but now C is called B.\n",
    "\n",
    "The simplest way to combine two dataframes is to just stick them together. `concat` will do this. It's not a dataframe method, so we write it `pd.concat` so Python knows to go looking for the function in pands."
   ]
  },
  {
   "cell_type": "code",
   "execution_count": 36,
   "id": "b6742638",
   "metadata": {},
   "outputs": [
    {
     "data": {
      "text/html": [
       "<div>\n",
       "<style scoped>\n",
       "    .dataframe tbody tr th:only-of-type {\n",
       "        vertical-align: middle;\n",
       "    }\n",
       "\n",
       "    .dataframe tbody tr th {\n",
       "        vertical-align: top;\n",
       "    }\n",
       "\n",
       "    .dataframe thead th {\n",
       "        text-align: right;\n",
       "    }\n",
       "</style>\n",
       "<table border=\"1\" class=\"dataframe\">\n",
       "  <thead>\n",
       "    <tr style=\"text-align: right;\">\n",
       "      <th></th>\n",
       "      <th>ID</th>\n",
       "      <th>B</th>\n",
       "      <th>C</th>\n",
       "    </tr>\n",
       "  </thead>\n",
       "  <tbody>\n",
       "    <tr>\n",
       "      <th>0</th>\n",
       "      <td>1</td>\n",
       "      <td>True</td>\n",
       "      <td>NaN</td>\n",
       "    </tr>\n",
       "    <tr>\n",
       "      <th>1</th>\n",
       "      <td>3</td>\n",
       "      <td>True</td>\n",
       "      <td>NaN</td>\n",
       "    </tr>\n",
       "    <tr>\n",
       "      <th>2</th>\n",
       "      <td>5</td>\n",
       "      <td>False</td>\n",
       "      <td>NaN</td>\n",
       "    </tr>\n",
       "    <tr>\n",
       "      <th>3</th>\n",
       "      <td>7</td>\n",
       "      <td>True</td>\n",
       "      <td>NaN</td>\n",
       "    </tr>\n",
       "    <tr>\n",
       "      <th>4</th>\n",
       "      <td>9</td>\n",
       "      <td>False</td>\n",
       "      <td>NaN</td>\n",
       "    </tr>\n",
       "    <tr>\n",
       "      <th>0</th>\n",
       "      <td>1</td>\n",
       "      <td>NaN</td>\n",
       "      <td>57.0</td>\n",
       "    </tr>\n",
       "    <tr>\n",
       "      <th>1</th>\n",
       "      <td>2</td>\n",
       "      <td>NaN</td>\n",
       "      <td>89.0</td>\n",
       "    </tr>\n",
       "    <tr>\n",
       "      <th>2</th>\n",
       "      <td>3</td>\n",
       "      <td>NaN</td>\n",
       "      <td>23.0</td>\n",
       "    </tr>\n",
       "    <tr>\n",
       "      <th>3</th>\n",
       "      <td>4</td>\n",
       "      <td>NaN</td>\n",
       "      <td>12.0</td>\n",
       "    </tr>\n",
       "    <tr>\n",
       "      <th>4</th>\n",
       "      <td>5</td>\n",
       "      <td>NaN</td>\n",
       "      <td>65.0</td>\n",
       "    </tr>\n",
       "  </tbody>\n",
       "</table>\n",
       "</div>"
      ],
      "text/plain": [
       "   ID      B     C\n",
       "0   1   True   NaN\n",
       "1   3   True   NaN\n",
       "2   5  False   NaN\n",
       "3   7   True   NaN\n",
       "4   9  False   NaN\n",
       "0   1    NaN  57.0\n",
       "1   2    NaN  89.0\n",
       "2   3    NaN  23.0\n",
       "3   4    NaN  12.0\n",
       "4   5    NaN  65.0"
      ]
     },
     "execution_count": 36,
     "metadata": {},
     "output_type": "execute_result"
    }
   ],
   "source": [
    "pd.concat([frame_1, frame_2])"
   ]
  },
  {
   "cell_type": "markdown",
   "id": "76ea1a8d",
   "metadata": {},
   "source": [
    "The syntax is simple: pass a list of frames to concatenate (add together).\n",
    "\n",
    "#### Below, write code to concatenate all three frames together at once."
   ]
  },
  {
   "cell_type": "code",
   "execution_count": 37,
   "id": "f5c879f3",
   "metadata": {},
   "outputs": [],
   "source": [
    "# your code goes here\n"
   ]
  },
  {
   "cell_type": "markdown",
   "id": "850d2d65",
   "metadata": {},
   "source": [
    "There are some other `concat` options, but the issue with `concat` is that items that are the same (like ID 1) just get repeated. We would really like to attach dataframes in such a way that all items with IDs get their data filled in from B and C. To do this we use `pd.merge`. Here, we can only merge two frames at a time, so instead of a list we just pass both frames as arguments."
   ]
  },
  {
   "cell_type": "code",
   "execution_count": 38,
   "id": "f915efb4",
   "metadata": {},
   "outputs": [
    {
     "data": {
      "text/html": [
       "<div>\n",
       "<style scoped>\n",
       "    .dataframe tbody tr th:only-of-type {\n",
       "        vertical-align: middle;\n",
       "    }\n",
       "\n",
       "    .dataframe tbody tr th {\n",
       "        vertical-align: top;\n",
       "    }\n",
       "\n",
       "    .dataframe thead th {\n",
       "        text-align: right;\n",
       "    }\n",
       "</style>\n",
       "<table border=\"1\" class=\"dataframe\">\n",
       "  <thead>\n",
       "    <tr style=\"text-align: right;\">\n",
       "      <th></th>\n",
       "      <th>ID</th>\n",
       "      <th>B</th>\n",
       "      <th>C</th>\n",
       "    </tr>\n",
       "  </thead>\n",
       "  <tbody>\n",
       "    <tr>\n",
       "      <th>0</th>\n",
       "      <td>1</td>\n",
       "      <td>True</td>\n",
       "      <td>57</td>\n",
       "    </tr>\n",
       "    <tr>\n",
       "      <th>1</th>\n",
       "      <td>3</td>\n",
       "      <td>True</td>\n",
       "      <td>23</td>\n",
       "    </tr>\n",
       "    <tr>\n",
       "      <th>2</th>\n",
       "      <td>5</td>\n",
       "      <td>False</td>\n",
       "      <td>65</td>\n",
       "    </tr>\n",
       "  </tbody>\n",
       "</table>\n",
       "</div>"
      ],
      "text/plain": [
       "   ID      B   C\n",
       "0   1   True  57\n",
       "1   3   True  23\n",
       "2   5  False  65"
      ]
     },
     "execution_count": 38,
     "metadata": {},
     "output_type": "execute_result"
    }
   ],
   "source": [
    "m = pd.merge(frame_1, frame_2)\n",
    "m.head()"
   ]
  },
  {
   "cell_type": "markdown",
   "id": "b26a62ad",
   "metadata": {},
   "source": [
    "This gave us columns ID, B, and C for all items present in ID in both dataframes (all odd numbers between 1-5). Why ID? Because the column names matched.\n",
    "       \n",
    "If we attempt to merge frame_1 with frame_4 we do need to specify what column to use. Remember, frame_4 is frame_2, except that column C is called B, which means that frame_1 and frame_4 have two identical column names. If we do nothing this is what we get:"
   ]
  },
  {
   "cell_type": "code",
   "execution_count": 39,
   "id": "cf2a56f0",
   "metadata": {},
   "outputs": [
    {
     "data": {
      "text/html": [
       "<div>\n",
       "<style scoped>\n",
       "    .dataframe tbody tr th:only-of-type {\n",
       "        vertical-align: middle;\n",
       "    }\n",
       "\n",
       "    .dataframe tbody tr th {\n",
       "        vertical-align: top;\n",
       "    }\n",
       "\n",
       "    .dataframe thead th {\n",
       "        text-align: right;\n",
       "    }\n",
       "</style>\n",
       "<table border=\"1\" class=\"dataframe\">\n",
       "  <thead>\n",
       "    <tr style=\"text-align: right;\">\n",
       "      <th></th>\n",
       "      <th>ID</th>\n",
       "      <th>B</th>\n",
       "    </tr>\n",
       "  </thead>\n",
       "  <tbody>\n",
       "  </tbody>\n",
       "</table>\n",
       "</div>"
      ],
      "text/plain": [
       "Empty DataFrame\n",
       "Columns: [ID, B]\n",
       "Index: []"
      ]
     },
     "execution_count": 39,
     "metadata": {},
     "output_type": "execute_result"
    }
   ],
   "source": [
    "m = pd.merge(frame_1, frame_4)\n",
    "m.head(10)"
   ]
  },
  {
   "cell_type": "markdown",
   "id": "eb257a6a",
   "metadata": {},
   "source": [
    "Since no rows match in both ID and B we get nothing. We should specify that ID is the real match using the `on` keyword."
   ]
  },
  {
   "cell_type": "code",
   "execution_count": 40,
   "id": "7224f69a",
   "metadata": {},
   "outputs": [
    {
     "data": {
      "text/html": [
       "<div>\n",
       "<style scoped>\n",
       "    .dataframe tbody tr th:only-of-type {\n",
       "        vertical-align: middle;\n",
       "    }\n",
       "\n",
       "    .dataframe tbody tr th {\n",
       "        vertical-align: top;\n",
       "    }\n",
       "\n",
       "    .dataframe thead th {\n",
       "        text-align: right;\n",
       "    }\n",
       "</style>\n",
       "<table border=\"1\" class=\"dataframe\">\n",
       "  <thead>\n",
       "    <tr style=\"text-align: right;\">\n",
       "      <th></th>\n",
       "      <th>ID</th>\n",
       "      <th>B_x</th>\n",
       "      <th>B_y</th>\n",
       "    </tr>\n",
       "  </thead>\n",
       "  <tbody>\n",
       "    <tr>\n",
       "      <th>0</th>\n",
       "      <td>1</td>\n",
       "      <td>True</td>\n",
       "      <td>57</td>\n",
       "    </tr>\n",
       "    <tr>\n",
       "      <th>1</th>\n",
       "      <td>3</td>\n",
       "      <td>True</td>\n",
       "      <td>23</td>\n",
       "    </tr>\n",
       "    <tr>\n",
       "      <th>2</th>\n",
       "      <td>5</td>\n",
       "      <td>False</td>\n",
       "      <td>65</td>\n",
       "    </tr>\n",
       "  </tbody>\n",
       "</table>\n",
       "</div>"
      ],
      "text/plain": [
       "   ID    B_x  B_y\n",
       "0   1   True   57\n",
       "1   3   True   23\n",
       "2   5  False   65"
      ]
     },
     "execution_count": 40,
     "metadata": {},
     "output_type": "execute_result"
    }
   ],
   "source": [
    "m = pd.merge(frame_1, frame_4, on='ID')\n",
    "m.head(10)"
   ]
  },
  {
   "cell_type": "markdown",
   "id": "dd158b95",
   "metadata": {},
   "source": [
    "Note that this relabels the two different column Bs with underscore and a letter (x and y, by default). Columns with different names would not need this relabeling.\n",
    "\n",
    "What if the columns are the same but don't have the same name? We can name equivalent columns with `right_on` and `left_on`. Right and left refer to the position of the dataframes in the argument list. (E.g., left is the first one, right is the second one.)\n",
    "\n",
    "frame_3 was created to show this. It is frame_2, but with ID_num instead of ID."
   ]
  },
  {
   "cell_type": "code",
   "execution_count": 41,
   "id": "89d4a0e4",
   "metadata": {},
   "outputs": [
    {
     "data": {
      "text/html": [
       "<div>\n",
       "<style scoped>\n",
       "    .dataframe tbody tr th:only-of-type {\n",
       "        vertical-align: middle;\n",
       "    }\n",
       "\n",
       "    .dataframe tbody tr th {\n",
       "        vertical-align: top;\n",
       "    }\n",
       "\n",
       "    .dataframe thead th {\n",
       "        text-align: right;\n",
       "    }\n",
       "</style>\n",
       "<table border=\"1\" class=\"dataframe\">\n",
       "  <thead>\n",
       "    <tr style=\"text-align: right;\">\n",
       "      <th></th>\n",
       "      <th>ID</th>\n",
       "      <th>B</th>\n",
       "      <th>ID_num</th>\n",
       "      <th>C</th>\n",
       "    </tr>\n",
       "  </thead>\n",
       "  <tbody>\n",
       "    <tr>\n",
       "      <th>0</th>\n",
       "      <td>1</td>\n",
       "      <td>True</td>\n",
       "      <td>1</td>\n",
       "      <td>57</td>\n",
       "    </tr>\n",
       "    <tr>\n",
       "      <th>1</th>\n",
       "      <td>3</td>\n",
       "      <td>True</td>\n",
       "      <td>3</td>\n",
       "      <td>23</td>\n",
       "    </tr>\n",
       "    <tr>\n",
       "      <th>2</th>\n",
       "      <td>5</td>\n",
       "      <td>False</td>\n",
       "      <td>5</td>\n",
       "      <td>65</td>\n",
       "    </tr>\n",
       "  </tbody>\n",
       "</table>\n",
       "</div>"
      ],
      "text/plain": [
       "   ID      B  ID_num   C\n",
       "0   1   True       1  57\n",
       "1   3   True       3  23\n",
       "2   5  False       5  65"
      ]
     },
     "execution_count": 41,
     "metadata": {},
     "output_type": "execute_result"
    }
   ],
   "source": [
    "m = pd.merge(frame_1, frame_3, left_on='ID', right_on='ID_num')\n",
    "m.head(10)"
   ]
  },
  {
   "attachments": {},
   "cell_type": "markdown",
   "id": "a7e065c5",
   "metadata": {},
   "source": [
    "We still get both named columns, but we specified that ID on the left (frame_1) was to be matched to ID_num on the right (frame_3) and so we successfully combined the dataframes intelligently.\n",
    "\n",
    "However, right now we got only items in ID that were present in both dataframes.We can change this behavior with the keyword `how`. We have four simple options:\n",
    "- Inner: This is the default, where only items present in the matching column in both frames are included.\n",
    "- Outer: All rows from both dataframes are included.\n",
    "- Left: All columns in the left dataframe (in the order you write them in `pd.merge()`) are kept. Ones only present in the right dataframe that don't match up with any rows in the left dataframe are discarded.\n",
    "- Right: The opposite of left. All columns from the 'right' dataframe are kept, and only rows in the left dataframe that match up with rows in the 'right' dataframe are kept.\n",
    "\n",
    "We simply write `how=` and then the lowercase name of the join type in either single or double quotes. Here's an outer join version of merging frame_1 and frame_2.\n",
    "\n",
    "This concept sometimes takes a little while to get the hang of. \"Left\" and \"Inner\" joins are probably the most frequently used in the workbench.\n",
    "\n",
    "(Source for additional examples: https://www.analyticsvidhya.com/blog/2020/02/joins-in-pandas-master-the-different-types-of-joins-in-python/)\n"
   ]
  },
  {
   "cell_type": "code",
   "execution_count": 42,
   "id": "295c861d",
   "metadata": {},
   "outputs": [
    {
     "data": {
      "text/html": [
       "<div>\n",
       "<style scoped>\n",
       "    .dataframe tbody tr th:only-of-type {\n",
       "        vertical-align: middle;\n",
       "    }\n",
       "\n",
       "    .dataframe tbody tr th {\n",
       "        vertical-align: top;\n",
       "    }\n",
       "\n",
       "    .dataframe thead th {\n",
       "        text-align: right;\n",
       "    }\n",
       "</style>\n",
       "<table border=\"1\" class=\"dataframe\">\n",
       "  <thead>\n",
       "    <tr style=\"text-align: right;\">\n",
       "      <th></th>\n",
       "      <th>ID</th>\n",
       "      <th>B</th>\n",
       "      <th>C</th>\n",
       "    </tr>\n",
       "  </thead>\n",
       "  <tbody>\n",
       "    <tr>\n",
       "      <th>0</th>\n",
       "      <td>1</td>\n",
       "      <td>True</td>\n",
       "      <td>57.0</td>\n",
       "    </tr>\n",
       "    <tr>\n",
       "      <th>1</th>\n",
       "      <td>2</td>\n",
       "      <td>NaN</td>\n",
       "      <td>89.0</td>\n",
       "    </tr>\n",
       "    <tr>\n",
       "      <th>2</th>\n",
       "      <td>3</td>\n",
       "      <td>True</td>\n",
       "      <td>23.0</td>\n",
       "    </tr>\n",
       "    <tr>\n",
       "      <th>3</th>\n",
       "      <td>4</td>\n",
       "      <td>NaN</td>\n",
       "      <td>12.0</td>\n",
       "    </tr>\n",
       "    <tr>\n",
       "      <th>4</th>\n",
       "      <td>5</td>\n",
       "      <td>False</td>\n",
       "      <td>65.0</td>\n",
       "    </tr>\n",
       "    <tr>\n",
       "      <th>5</th>\n",
       "      <td>7</td>\n",
       "      <td>True</td>\n",
       "      <td>NaN</td>\n",
       "    </tr>\n",
       "    <tr>\n",
       "      <th>6</th>\n",
       "      <td>9</td>\n",
       "      <td>False</td>\n",
       "      <td>NaN</td>\n",
       "    </tr>\n",
       "  </tbody>\n",
       "</table>\n",
       "</div>"
      ],
      "text/plain": [
       "   ID      B     C\n",
       "0   1   True  57.0\n",
       "1   2    NaN  89.0\n",
       "2   3   True  23.0\n",
       "3   4    NaN  12.0\n",
       "4   5  False  65.0\n",
       "5   7   True   NaN\n",
       "6   9  False   NaN"
      ]
     },
     "execution_count": 42,
     "metadata": {},
     "output_type": "execute_result"
    }
   ],
   "source": [
    "m = pd.merge(frame_1, frame_2, how='outer')\n",
    "m.head(10)"
   ]
  },
  {
   "cell_type": "markdown",
   "id": "85954825",
   "metadata": {},
   "source": [
    "You'll see that any column with no data, like column B for where A is 4, becomes NaN. We'll discuss this more in the next notebook, but NaN is a blank cell.\n",
    "\n",
    "#### Below, run a left merge on frame_1 and frame_3. Remember to specify how to merge them!"
   ]
  },
  {
   "cell_type": "code",
   "execution_count": 43,
   "id": "988b0e5f",
   "metadata": {},
   "outputs": [],
   "source": [
    "# your code goes here\n"
   ]
  },
  {
   "cell_type": "markdown",
   "id": "ef39f0f2",
   "metadata": {},
   "source": [
    "That concludes data structures. Next up, we'll discuss cleaning up issues like these blank cells we created in our merges."
   ]
  },
  {
   "cell_type": "markdown",
   "id": "b4707168",
   "metadata": {},
   "source": []
  }
 ],
 "metadata": {
  "kernelspec": {
   "display_name": "Python 3 (ipykernel)",
   "language": "python",
   "name": "python3"
  },
  "language_info": {
   "codemirror_mode": {
    "name": "ipython",
    "version": 3
   },
   "file_extension": ".py",
   "mimetype": "text/x-python",
   "name": "python",
   "nbconvert_exporter": "python",
   "pygments_lexer": "ipython3",
   "version": "3.9.19"
  }
 },
 "nbformat": 4,
 "nbformat_minor": 5
}
