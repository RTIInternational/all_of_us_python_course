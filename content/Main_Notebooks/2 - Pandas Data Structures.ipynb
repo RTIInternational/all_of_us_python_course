{
 "cells": [
  {
   "cell_type": "markdown",
   "id": "b63091ef-c217-45fd-976d-733e4d5f2bb9",
   "metadata": {},
   "source": [
    "# Pandas Data Structures"
   ]
  },
  {
   "cell_type": "markdown",
   "id": "d3102320-9daf-4f97-bdde-70eb01da10d0",
   "metadata": {},
   "source": [
    "This is the first section to deal specifically with Pandas. Pandas is a powerful data analysis library that makes data science work much easier than it once was."
   ]
  },
  {
   "cell_type": "markdown",
   "id": "58fccd53-7a8d-4931-9f8a-c8ee8a60380a",
   "metadata": {},
   "source": [
    "## Section 2.0: Dataframes"
   ]
  },
  {
   "cell_type": "markdown",
   "id": "a0fd71cc",
   "metadata": {},
   "source": [
    "Load the pandas package, and assign it a shorthand name, 'pd'."
   ]
  },
  {
   "cell_type": "code",
   "execution_count": 1,
   "id": "86ecd1c7",
   "metadata": {},
   "outputs": [],
   "source": [
    "import pandas as pd"
   ]
  },
  {
   "cell_type": "markdown",
   "id": "ee1dec84",
   "metadata": {},
   "source": [
    "Don't worry about understanding this block of code, but you will need to run it to do the rest of this exercise. \n",
    "The important thing is, it stores a dataframe you can use into the variable named \"df\". \n",
    "We are using this instead of the pd.read_csv() function to load a dataframe for the purposes of these exercises. The read_csv() function is often used to load a dataframe from a .csv file, but given the Jupyter notebooks format, it is easier to load a dataframe this way for the purposes of this exercise."
   ]
  },
  {
   "cell_type": "code",
   "execution_count": 2,
   "id": "7ba66e1b",
   "metadata": {},
   "outputs": [
    {
     "data": {
      "text/html": [
       "<div>\n",
       "<style scoped>\n",
       "    .dataframe tbody tr th:only-of-type {\n",
       "        vertical-align: middle;\n",
       "    }\n",
       "\n",
       "    .dataframe tbody tr th {\n",
       "        vertical-align: top;\n",
       "    }\n",
       "\n",
       "    .dataframe thead th {\n",
       "        text-align: right;\n",
       "    }\n",
       "</style>\n",
       "<table border=\"1\" class=\"dataframe\">\n",
       "  <thead>\n",
       "    <tr style=\"text-align: right;\">\n",
       "      <th></th>\n",
       "      <th>ID</th>\n",
       "      <th>Measurement Device</th>\n",
       "      <th>Heart Rate Max</th>\n",
       "      <th>Heart Rate Min</th>\n",
       "      <th>Heart Rate Avg</th>\n",
       "      <th>Duration of exercise (min)</th>\n",
       "      <th>Exercise Type</th>\n",
       "    </tr>\n",
       "  </thead>\n",
       "  <tbody>\n",
       "    <tr>\n",
       "      <th>0</th>\n",
       "      <td>902252007</td>\n",
       "      <td>B-Wolf</td>\n",
       "      <td>133</td>\n",
       "      <td>82</td>\n",
       "      <td>118.890640</td>\n",
       "      <td>84</td>\n",
       "      <td>Running</td>\n",
       "    </tr>\n",
       "    <tr>\n",
       "      <th>1</th>\n",
       "      <td>544578830</td>\n",
       "      <td>Skykandal</td>\n",
       "      <td>94</td>\n",
       "      <td>66</td>\n",
       "      <td>93.261689</td>\n",
       "      <td>54</td>\n",
       "      <td>Bicycling</td>\n",
       "    </tr>\n",
       "    <tr>\n",
       "      <th>2</th>\n",
       "      <td>832870883</td>\n",
       "      <td>Skykandal</td>\n",
       "      <td>78</td>\n",
       "      <td>66</td>\n",
       "      <td>72.156150</td>\n",
       "      <td>29</td>\n",
       "      <td>Swimming</td>\n",
       "    </tr>\n",
       "    <tr>\n",
       "      <th>3</th>\n",
       "      <td>554249407</td>\n",
       "      <td>Skykandal</td>\n",
       "      <td>123</td>\n",
       "      <td>45</td>\n",
       "      <td>91.836704</td>\n",
       "      <td>62</td>\n",
       "      <td>Bicycling</td>\n",
       "    </tr>\n",
       "    <tr>\n",
       "      <th>4</th>\n",
       "      <td>451383096</td>\n",
       "      <td>Skykandal</td>\n",
       "      <td>115</td>\n",
       "      <td>66</td>\n",
       "      <td>105.375030</td>\n",
       "      <td>43</td>\n",
       "      <td>Bicycling</td>\n",
       "    </tr>\n",
       "  </tbody>\n",
       "</table>\n",
       "</div>"
      ],
      "text/plain": [
       "          ID Measurement Device  Heart Rate Max  Heart Rate Min  \\\n",
       "0  902252007             B-Wolf             133              82   \n",
       "1  544578830          Skykandal              94              66   \n",
       "2  832870883          Skykandal              78              66   \n",
       "3  554249407          Skykandal             123              45   \n",
       "4  451383096          Skykandal             115              66   \n",
       "\n",
       "   Heart Rate Avg  Duration of exercise (min) Exercise Type  \n",
       "0      118.890640                          84       Running  \n",
       "1       93.261689                          54     Bicycling  \n",
       "2       72.156150                          29      Swimming  \n",
       "3       91.836704                          62     Bicycling  \n",
       "4      105.375030                          43     Bicycling  "
      ]
     },
     "execution_count": 2,
     "metadata": {},
     "output_type": "execute_result"
    }
   ],
   "source": [
    "import random\n",
    "\n",
    "workout_dict = {'ID': [], 'Measurement Device': [], 'Heart Rate Max': [], 'Heart Rate Min': [], 'Heart Rate Avg': [],\n",
    "              'Duration of exercise (min)': [], 'Exercise Type': []}\n",
    "used_ids = []\n",
    "\n",
    "for x in range(0, 500):\n",
    "    id = random.randint(100000000, 999999999)\n",
    "    while id in used_ids:\n",
    "        id = random.randint(100000000, 999999999)\n",
    "    used_ids.append(id)\n",
    "    device = random.choice(['Skykandal', 'B-Wolf'])\n",
    "    mu = random.randint(65, 85)\n",
    "    min_rate = int(random.gauss(mu, 10))\n",
    "    max_rate = int(random.gauss(mu + 55, 25))\n",
    "    while max_rate <= min_rate:\n",
    "        max_rate = int(random.gauss(mu + 55, 25))\n",
    "    avg = random.gauss((max_rate + min_rate) / 2, (max_rate - min_rate) / 5)\n",
    "    duration = random.randint(10, 90)\n",
    "    exercise = random.choice(['Running', 'Running', 'Running', 'Bicycling', 'Swimming', 'Swimming',\n",
    "                              'Weight training'])\n",
    "    row = [device, min_rate, max_rate, avg, duration, exercise]\n",
    "    workout_dict['ID'].append(id)\n",
    "    workout_dict['Measurement Device'].append(row[0])\n",
    "    workout_dict['Heart Rate Min'].append(row[1])\n",
    "    workout_dict['Heart Rate Max'].append(row[2])\n",
    "    workout_dict['Heart Rate Avg'].append(row[3])\n",
    "    workout_dict['Duration of exercise (min)'].append(row[4])\n",
    "    workout_dict['Exercise Type'].append(row[5])\n",
    "\n",
    "df = pd.DataFrame(workout_dict)"
   ]
  },
  {
   "cell_type": "markdown",
   "id": "1aeea400-82f5-43d1-9b93-d8210497ad7c",
   "metadata": {},
   "source": [
    "View the first 5 rows of the dataframe stored in the variable named \"df\":"
   ]
  },
  {
   "cell_type": "code",
   "execution_count": 3,
   "id": "0ac0ea0c-07cc-413e-9b43-02b1d7670b04",
   "metadata": {},
   "outputs": [
    {
     "data": {
      "text/html": [
       "<div>\n",
       "<style scoped>\n",
       "    .dataframe tbody tr th:only-of-type {\n",
       "        vertical-align: middle;\n",
       "    }\n",
       "\n",
       "    .dataframe tbody tr th {\n",
       "        vertical-align: top;\n",
       "    }\n",
       "\n",
       "    .dataframe thead th {\n",
       "        text-align: right;\n",
       "    }\n",
       "</style>\n",
       "<table border=\"1\" class=\"dataframe\">\n",
       "  <thead>\n",
       "    <tr style=\"text-align: right;\">\n",
       "      <th></th>\n",
       "      <th>ID</th>\n",
       "      <th>Measurement Device</th>\n",
       "      <th>Heart Rate Max</th>\n",
       "      <th>Heart Rate Min</th>\n",
       "      <th>Heart Rate Avg</th>\n",
       "      <th>Duration of exercise (min)</th>\n",
       "      <th>Exercise Type</th>\n",
       "    </tr>\n",
       "  </thead>\n",
       "  <tbody>\n",
       "    <tr>\n",
       "      <th>0</th>\n",
       "      <td>902252007</td>\n",
       "      <td>B-Wolf</td>\n",
       "      <td>133</td>\n",
       "      <td>82</td>\n",
       "      <td>118.890640</td>\n",
       "      <td>84</td>\n",
       "      <td>Running</td>\n",
       "    </tr>\n",
       "    <tr>\n",
       "      <th>1</th>\n",
       "      <td>544578830</td>\n",
       "      <td>Skykandal</td>\n",
       "      <td>94</td>\n",
       "      <td>66</td>\n",
       "      <td>93.261689</td>\n",
       "      <td>54</td>\n",
       "      <td>Bicycling</td>\n",
       "    </tr>\n",
       "    <tr>\n",
       "      <th>2</th>\n",
       "      <td>832870883</td>\n",
       "      <td>Skykandal</td>\n",
       "      <td>78</td>\n",
       "      <td>66</td>\n",
       "      <td>72.156150</td>\n",
       "      <td>29</td>\n",
       "      <td>Swimming</td>\n",
       "    </tr>\n",
       "    <tr>\n",
       "      <th>3</th>\n",
       "      <td>554249407</td>\n",
       "      <td>Skykandal</td>\n",
       "      <td>123</td>\n",
       "      <td>45</td>\n",
       "      <td>91.836704</td>\n",
       "      <td>62</td>\n",
       "      <td>Bicycling</td>\n",
       "    </tr>\n",
       "    <tr>\n",
       "      <th>4</th>\n",
       "      <td>451383096</td>\n",
       "      <td>Skykandal</td>\n",
       "      <td>115</td>\n",
       "      <td>66</td>\n",
       "      <td>105.375030</td>\n",
       "      <td>43</td>\n",
       "      <td>Bicycling</td>\n",
       "    </tr>\n",
       "  </tbody>\n",
       "</table>\n",
       "</div>"
      ],
      "text/plain": [
       "          ID Measurement Device  Heart Rate Max  Heart Rate Min  \\\n",
       "0  902252007             B-Wolf             133              82   \n",
       "1  544578830          Skykandal              94              66   \n",
       "2  832870883          Skykandal              78              66   \n",
       "3  554249407          Skykandal             123              45   \n",
       "4  451383096          Skykandal             115              66   \n",
       "\n",
       "   Heart Rate Avg  Duration of exercise (min) Exercise Type  \n",
       "0      118.890640                          84       Running  \n",
       "1       93.261689                          54     Bicycling  \n",
       "2       72.156150                          29      Swimming  \n",
       "3       91.836704                          62     Bicycling  \n",
       "4      105.375030                          43     Bicycling  "
      ]
     },
     "execution_count": 3,
     "metadata": {},
     "output_type": "execute_result"
    }
   ],
   "source": [
    "df.head()"
   ]
  },
  {
   "cell_type": "markdown",
   "id": "5956f87f",
   "metadata": {},
   "source": [
    "The id column uniquely identifies each row."
   ]
  },
  {
   "cell_type": "markdown",
   "id": "871ec11b-344a-4432-915d-1952d8bc7ea2",
   "metadata": {},
   "source": [
    "## Section 2.1: Columns"
   ]
  },
  {
   "cell_type": "markdown",
   "id": "910621cc-d29f-48f7-9962-94dbad67660d",
   "metadata": {},
   "source": [
    "View names of the columns in the dataframe variable named 'df'."
   ]
  },
  {
   "cell_type": "code",
   "execution_count": 4,
   "id": "830ad26d-5585-470b-87b7-4b0beeba9784",
   "metadata": {},
   "outputs": [
    {
     "data": {
      "text/plain": [
       "Index(['ID', 'Measurement Device', 'Heart Rate Max', 'Heart Rate Min',\n",
       "       'Heart Rate Avg', 'Duration of exercise (min)', 'Exercise Type'],\n",
       "      dtype='object')"
      ]
     },
     "execution_count": 4,
     "metadata": {},
     "output_type": "execute_result"
    }
   ],
   "source": [
    "df.columns"
   ]
  },
  {
   "cell_type": "markdown",
   "id": "42de1eff",
   "metadata": {},
   "source": [
    "### Columns"
   ]
  },
  {
   "cell_type": "markdown",
   "id": "fcdbbaec",
   "metadata": {},
   "source": [
    "We will start by discussing how to access a column. The code below will print the Exercise type column."
   ]
  },
  {
   "cell_type": "code",
   "execution_count": 5,
   "id": "338204d5",
   "metadata": {},
   "outputs": [
    {
     "data": {
      "text/plain": [
       "0        Running\n",
       "1      Bicycling\n",
       "2       Swimming\n",
       "3      Bicycling\n",
       "4      Bicycling\n",
       "         ...    \n",
       "495     Swimming\n",
       "496     Swimming\n",
       "497      Running\n",
       "498    Bicycling\n",
       "499    Bicycling\n",
       "Name: Exercise Type, Length: 500, dtype: object"
      ]
     },
     "execution_count": 5,
     "metadata": {},
     "output_type": "execute_result"
    }
   ],
   "source": [
    "df['Exercise Type']"
   ]
  },
  {
   "cell_type": "markdown",
   "id": "479eedf4",
   "metadata": {},
   "source": [
    "We can simply look up the column in the dataframe (which we have named `df`) by using the column name as the key.\n",
    "\n",
    "The column data type is a Pandas series. The values from this result on the right side are the values in the column. The values on the left are simply index values, which are unique for each row.\n",
    "The \"Length\" value gives the number of rows, and the \"dtype\" value indicates the \"data type\"."
   ]
  },
  {
   "cell_type": "code",
   "execution_count": 6,
   "id": "0c00913f",
   "metadata": {},
   "outputs": [
    {
     "data": {
      "text/plain": [
       "0      133\n",
       "1       94\n",
       "2       78\n",
       "3      123\n",
       "4      115\n",
       "      ... \n",
       "495    111\n",
       "496    113\n",
       "497    118\n",
       "498     98\n",
       "499    116\n",
       "Name: Heart Rate Max, Length: 500, dtype: int64"
      ]
     },
     "execution_count": 6,
     "metadata": {},
     "output_type": "execute_result"
    }
   ],
   "source": [
    "df['Heart Rate Max']"
   ]
  },
  {
   "cell_type": "markdown",
   "id": "175552bd",
   "metadata": {},
   "source": [
    "You can see that this column is dtype `int64`. That's a dtype for integer numbers , which these all are. The Heart Rate Avg column, which is numeric but not integers, will be a floating point number, probably `float64`. The numbers at the end don't matter as much, just remember that there are `int`s for integers, `float`s for non-integer numbers (ones with decimal points, really), and `object`s for text (and some other less common things).\n",
    "\n",
    "It is possible to loop over this column with a for loop. However, Pandas often has shortcuts for manipulating the data that make the for loop needed less often."
   ]
  },
  {
   "cell_type": "code",
   "execution_count": 7,
   "id": "37db1fd9",
   "metadata": {},
   "outputs": [
    {
     "name": "stdout",
     "output_type": "stream",
     "text": [
      "133\n",
      "94\n",
      "78\n",
      "123\n",
      "115\n",
      "131\n",
      "117\n",
      "96\n",
      "130\n",
      "137\n",
      "146\n",
      "123\n",
      "166\n",
      "113\n",
      "115\n",
      "139\n",
      "140\n",
      "155\n",
      "134\n",
      "151\n",
      "131\n",
      "125\n",
      "146\n",
      "121\n",
      "119\n",
      "142\n",
      "143\n",
      "139\n",
      "138\n",
      "123\n",
      "118\n",
      "174\n",
      "84\n",
      "136\n",
      "138\n",
      "129\n",
      "117\n",
      "133\n",
      "104\n",
      "131\n",
      "117\n",
      "151\n",
      "137\n",
      "123\n",
      "81\n",
      "148\n",
      "141\n",
      "107\n",
      "151\n",
      "180\n",
      "182\n",
      "112\n",
      "107\n",
      "162\n",
      "143\n",
      "100\n",
      "146\n",
      "126\n",
      "113\n",
      "160\n",
      "182\n",
      "143\n",
      "121\n",
      "135\n",
      "100\n",
      "118\n",
      "109\n",
      "107\n",
      "113\n",
      "115\n",
      "123\n",
      "116\n",
      "146\n",
      "170\n",
      "110\n",
      "121\n",
      "122\n",
      "117\n",
      "133\n",
      "124\n",
      "128\n",
      "141\n",
      "148\n",
      "146\n",
      "119\n",
      "143\n",
      "138\n",
      "155\n",
      "152\n",
      "154\n",
      "132\n",
      "103\n",
      "158\n",
      "122\n",
      "108\n",
      "152\n",
      "124\n",
      "126\n",
      "131\n",
      "139\n",
      "154\n",
      "154\n",
      "157\n",
      "151\n",
      "183\n",
      "151\n",
      "158\n",
      "142\n",
      "143\n",
      "160\n",
      "134\n",
      "140\n",
      "161\n",
      "158\n",
      "149\n",
      "155\n",
      "90\n",
      "117\n",
      "157\n",
      "142\n",
      "186\n",
      "125\n",
      "123\n",
      "163\n",
      "117\n",
      "115\n",
      "178\n",
      "110\n",
      "143\n",
      "111\n",
      "116\n",
      "154\n",
      "122\n",
      "169\n",
      "95\n",
      "116\n",
      "106\n",
      "160\n",
      "136\n",
      "100\n",
      "161\n",
      "139\n",
      "132\n",
      "127\n",
      "191\n",
      "125\n",
      "106\n",
      "120\n",
      "137\n",
      "96\n",
      "133\n",
      "124\n",
      "141\n",
      "163\n",
      "121\n",
      "89\n",
      "172\n",
      "149\n",
      "118\n",
      "133\n",
      "110\n",
      "107\n",
      "90\n",
      "128\n",
      "160\n",
      "137\n",
      "152\n",
      "155\n",
      "132\n",
      "117\n",
      "86\n",
      "139\n",
      "132\n",
      "134\n",
      "150\n",
      "85\n",
      "150\n",
      "98\n",
      "140\n",
      "146\n",
      "157\n",
      "130\n",
      "103\n",
      "159\n",
      "91\n",
      "113\n",
      "134\n",
      "106\n",
      "113\n",
      "121\n",
      "146\n",
      "134\n",
      "111\n",
      "98\n",
      "121\n",
      "150\n",
      "134\n",
      "93\n",
      "109\n",
      "173\n",
      "109\n",
      "129\n",
      "163\n",
      "123\n",
      "132\n",
      "121\n",
      "118\n",
      "150\n",
      "125\n",
      "111\n",
      "168\n",
      "153\n",
      "146\n",
      "96\n",
      "96\n",
      "196\n",
      "131\n",
      "153\n",
      "113\n",
      "146\n",
      "95\n",
      "155\n",
      "121\n",
      "102\n",
      "143\n",
      "138\n",
      "142\n",
      "100\n",
      "107\n",
      "159\n",
      "150\n",
      "138\n",
      "176\n",
      "110\n",
      "172\n",
      "84\n",
      "156\n",
      "161\n",
      "147\n",
      "101\n",
      "130\n",
      "173\n",
      "67\n",
      "98\n",
      "142\n",
      "121\n",
      "117\n",
      "149\n",
      "121\n",
      "115\n",
      "144\n",
      "79\n",
      "125\n",
      "136\n",
      "102\n",
      "126\n",
      "109\n",
      "125\n",
      "125\n",
      "99\n",
      "155\n",
      "108\n",
      "111\n",
      "120\n",
      "147\n",
      "179\n",
      "115\n",
      "160\n",
      "153\n",
      "123\n",
      "155\n",
      "119\n",
      "101\n",
      "98\n",
      "161\n",
      "119\n",
      "155\n",
      "130\n",
      "98\n",
      "156\n",
      "87\n",
      "190\n",
      "125\n",
      "104\n",
      "94\n",
      "142\n",
      "174\n",
      "104\n",
      "130\n",
      "140\n",
      "122\n",
      "102\n",
      "116\n",
      "160\n",
      "132\n",
      "182\n",
      "96\n",
      "130\n",
      "121\n",
      "100\n",
      "116\n",
      "126\n",
      "77\n",
      "104\n",
      "98\n",
      "152\n",
      "129\n",
      "79\n",
      "130\n",
      "135\n",
      "133\n",
      "150\n",
      "120\n",
      "154\n",
      "92\n",
      "155\n",
      "122\n",
      "136\n",
      "172\n",
      "96\n",
      "102\n",
      "119\n",
      "123\n",
      "167\n",
      "136\n",
      "133\n",
      "126\n",
      "132\n",
      "140\n",
      "141\n",
      "117\n",
      "119\n",
      "110\n",
      "107\n",
      "120\n",
      "147\n",
      "148\n",
      "105\n",
      "119\n",
      "125\n",
      "159\n",
      "165\n",
      "98\n",
      "137\n",
      "142\n",
      "146\n",
      "120\n",
      "108\n",
      "113\n",
      "116\n",
      "156\n",
      "117\n",
      "128\n",
      "155\n",
      "146\n",
      "132\n",
      "151\n",
      "98\n",
      "179\n",
      "134\n",
      "164\n",
      "135\n",
      "137\n",
      "132\n",
      "132\n",
      "108\n",
      "128\n",
      "98\n",
      "112\n",
      "149\n",
      "140\n",
      "108\n",
      "160\n",
      "122\n",
      "156\n",
      "126\n",
      "138\n",
      "157\n",
      "150\n",
      "138\n",
      "83\n",
      "129\n",
      "96\n",
      "98\n",
      "151\n",
      "125\n",
      "147\n",
      "96\n",
      "164\n",
      "149\n",
      "170\n",
      "124\n",
      "120\n",
      "109\n",
      "83\n",
      "100\n",
      "130\n",
      "184\n",
      "124\n",
      "137\n",
      "155\n",
      "108\n",
      "161\n",
      "92\n",
      "93\n",
      "120\n",
      "124\n",
      "133\n",
      "90\n",
      "159\n",
      "136\n",
      "126\n",
      "95\n",
      "148\n",
      "133\n",
      "158\n",
      "119\n",
      "95\n",
      "112\n",
      "126\n",
      "194\n",
      "122\n",
      "141\n",
      "133\n",
      "109\n",
      "125\n",
      "143\n",
      "141\n",
      "169\n",
      "168\n",
      "96\n",
      "128\n",
      "82\n",
      "112\n",
      "105\n",
      "94\n",
      "165\n",
      "114\n",
      "148\n",
      "144\n",
      "122\n",
      "152\n",
      "109\n",
      "128\n",
      "156\n",
      "130\n",
      "88\n",
      "107\n",
      "119\n",
      "156\n",
      "159\n",
      "138\n",
      "136\n",
      "126\n",
      "80\n",
      "160\n",
      "126\n",
      "103\n",
      "132\n",
      "127\n",
      "73\n",
      "79\n",
      "121\n",
      "120\n",
      "125\n",
      "144\n",
      "116\n",
      "140\n",
      "96\n",
      "129\n",
      "105\n",
      "165\n",
      "88\n",
      "135\n",
      "117\n",
      "142\n",
      "97\n",
      "127\n",
      "128\n",
      "138\n",
      "91\n",
      "107\n",
      "133\n",
      "156\n",
      "132\n",
      "201\n",
      "146\n",
      "81\n",
      "142\n",
      "132\n",
      "186\n",
      "159\n",
      "127\n",
      "115\n",
      "116\n",
      "111\n",
      "113\n",
      "118\n",
      "98\n",
      "116\n"
     ]
    }
   ],
   "source": [
    "for x in df['Heart Rate Max']:\n",
    "    print(x)"
   ]
  },
  {
   "cell_type": "markdown",
   "id": "86976322",
   "metadata": {},
   "source": [
    "We can also access more than one column at once. We do this by passing a list of columns we want into the square brackets. Note that this means that we have two sets of square brackets, the inner one that defines the list and an outer one that says \"get me these items from the dataframe\"."
   ]
  },
  {
   "cell_type": "code",
   "execution_count": 8,
   "id": "411dce22",
   "metadata": {},
   "outputs": [
    {
     "data": {
      "text/html": [
       "<div>\n",
       "<style scoped>\n",
       "    .dataframe tbody tr th:only-of-type {\n",
       "        vertical-align: middle;\n",
       "    }\n",
       "\n",
       "    .dataframe tbody tr th {\n",
       "        vertical-align: top;\n",
       "    }\n",
       "\n",
       "    .dataframe thead th {\n",
       "        text-align: right;\n",
       "    }\n",
       "</style>\n",
       "<table border=\"1\" class=\"dataframe\">\n",
       "  <thead>\n",
       "    <tr style=\"text-align: right;\">\n",
       "      <th></th>\n",
       "      <th>ID</th>\n",
       "      <th>Measurement Device</th>\n",
       "    </tr>\n",
       "  </thead>\n",
       "  <tbody>\n",
       "    <tr>\n",
       "      <th>0</th>\n",
       "      <td>902252007</td>\n",
       "      <td>B-Wolf</td>\n",
       "    </tr>\n",
       "    <tr>\n",
       "      <th>1</th>\n",
       "      <td>544578830</td>\n",
       "      <td>Skykandal</td>\n",
       "    </tr>\n",
       "    <tr>\n",
       "      <th>2</th>\n",
       "      <td>832870883</td>\n",
       "      <td>Skykandal</td>\n",
       "    </tr>\n",
       "    <tr>\n",
       "      <th>3</th>\n",
       "      <td>554249407</td>\n",
       "      <td>Skykandal</td>\n",
       "    </tr>\n",
       "    <tr>\n",
       "      <th>4</th>\n",
       "      <td>451383096</td>\n",
       "      <td>Skykandal</td>\n",
       "    </tr>\n",
       "    <tr>\n",
       "      <th>...</th>\n",
       "      <td>...</td>\n",
       "      <td>...</td>\n",
       "    </tr>\n",
       "    <tr>\n",
       "      <th>495</th>\n",
       "      <td>327475478</td>\n",
       "      <td>B-Wolf</td>\n",
       "    </tr>\n",
       "    <tr>\n",
       "      <th>496</th>\n",
       "      <td>884726739</td>\n",
       "      <td>Skykandal</td>\n",
       "    </tr>\n",
       "    <tr>\n",
       "      <th>497</th>\n",
       "      <td>422636257</td>\n",
       "      <td>Skykandal</td>\n",
       "    </tr>\n",
       "    <tr>\n",
       "      <th>498</th>\n",
       "      <td>408861309</td>\n",
       "      <td>Skykandal</td>\n",
       "    </tr>\n",
       "    <tr>\n",
       "      <th>499</th>\n",
       "      <td>947601007</td>\n",
       "      <td>Skykandal</td>\n",
       "    </tr>\n",
       "  </tbody>\n",
       "</table>\n",
       "<p>500 rows × 2 columns</p>\n",
       "</div>"
      ],
      "text/plain": [
       "            ID Measurement Device\n",
       "0    902252007             B-Wolf\n",
       "1    544578830          Skykandal\n",
       "2    832870883          Skykandal\n",
       "3    554249407          Skykandal\n",
       "4    451383096          Skykandal\n",
       "..         ...                ...\n",
       "495  327475478             B-Wolf\n",
       "496  884726739          Skykandal\n",
       "497  422636257          Skykandal\n",
       "498  408861309          Skykandal\n",
       "499  947601007          Skykandal\n",
       "\n",
       "[500 rows x 2 columns]"
      ]
     },
     "execution_count": 8,
     "metadata": {},
     "output_type": "execute_result"
    }
   ],
   "source": [
    "df[['ID', 'Measurement Device']]"
   ]
  },
  {
   "cell_type": "markdown",
   "id": "72892585",
   "metadata": {},
   "source": [
    "#### Try writing some code in the space below that accesses more than one column at once. Access these columns: Measurement Device, Heart Rate Min, and Duration."
   ]
  },
  {
   "cell_type": "code",
   "execution_count": null,
   "id": "4065715f",
   "metadata": {},
   "outputs": [],
   "source": [
    "# put your code here\n"
   ]
  },
  {
   "cell_type": "markdown",
   "id": "699115aa-ca19-4fa9-a163-107d4b4dc91b",
   "metadata": {},
   "source": [
    "How do you find the column names? In small dataframes you can get the column names in the same way you check the data: `df.head()`. The `head` method prints out the first five rows of the dataframe by default, but you can type a number in between the parenthesis to make it show a different number of rows.\n",
    "\n",
    "`head` is a method of the dataframe. This means that you write `name of dataframe.head()`, and `head` then shows you the head of the dataframe you named. If your dataframe was named blood_counts_frame you would write `blood_counts_frame.head()`."
   ]
  },
  {
   "cell_type": "code",
   "execution_count": null,
   "id": "05dac622",
   "metadata": {},
   "outputs": [],
   "source": [
    "df.head(10)"
   ]
  },
  {
   "cell_type": "markdown",
   "id": "c9292066",
   "metadata": {},
   "source": [
    "This code allows you to print just the column names:"
   ]
  },
  {
   "cell_type": "code",
   "execution_count": 13,
   "id": "a29efd41",
   "metadata": {},
   "outputs": [
    {
     "name": "stdout",
     "output_type": "stream",
     "text": [
      "['ID', 'Measurement Device', 'Heart Rate Max', 'Heart Rate Min', 'Heart Rate Avg', 'Duration of exercise (min)', 'Exercise Type']\n"
     ]
    }
   ],
   "source": [
    "print(list(df.columns))"
   ]
  },
  {
   "cell_type": "markdown",
   "id": "312281ce",
   "metadata": {},
   "source": [
    "We can also rename a column in a dataframe. For instance, this code renames the column 'Heart Rate Max' to 'Max'. \n",
    "To do this we use the dataframe `rename` method."
   ]
  },
  {
   "cell_type": "code",
   "execution_count": 14,
   "id": "d090d655",
   "metadata": {},
   "outputs": [
    {
     "data": {
      "text/html": [
       "<div>\n",
       "<style scoped>\n",
       "    .dataframe tbody tr th:only-of-type {\n",
       "        vertical-align: middle;\n",
       "    }\n",
       "\n",
       "    .dataframe tbody tr th {\n",
       "        vertical-align: top;\n",
       "    }\n",
       "\n",
       "    .dataframe thead th {\n",
       "        text-align: right;\n",
       "    }\n",
       "</style>\n",
       "<table border=\"1\" class=\"dataframe\">\n",
       "  <thead>\n",
       "    <tr style=\"text-align: right;\">\n",
       "      <th></th>\n",
       "      <th>ID</th>\n",
       "      <th>Measurement Device</th>\n",
       "      <th>Max</th>\n",
       "      <th>Heart Rate Min</th>\n",
       "      <th>Heart Rate Avg</th>\n",
       "      <th>Duration of exercise (min)</th>\n",
       "      <th>Exercise Type</th>\n",
       "    </tr>\n",
       "  </thead>\n",
       "  <tbody>\n",
       "    <tr>\n",
       "      <th>0</th>\n",
       "      <td>902252007</td>\n",
       "      <td>B-Wolf</td>\n",
       "      <td>133</td>\n",
       "      <td>82</td>\n",
       "      <td>118.890640</td>\n",
       "      <td>84</td>\n",
       "      <td>Running</td>\n",
       "    </tr>\n",
       "    <tr>\n",
       "      <th>1</th>\n",
       "      <td>544578830</td>\n",
       "      <td>Skykandal</td>\n",
       "      <td>94</td>\n",
       "      <td>66</td>\n",
       "      <td>93.261689</td>\n",
       "      <td>54</td>\n",
       "      <td>Bicycling</td>\n",
       "    </tr>\n",
       "    <tr>\n",
       "      <th>2</th>\n",
       "      <td>832870883</td>\n",
       "      <td>Skykandal</td>\n",
       "      <td>78</td>\n",
       "      <td>66</td>\n",
       "      <td>72.156150</td>\n",
       "      <td>29</td>\n",
       "      <td>Swimming</td>\n",
       "    </tr>\n",
       "    <tr>\n",
       "      <th>3</th>\n",
       "      <td>554249407</td>\n",
       "      <td>Skykandal</td>\n",
       "      <td>123</td>\n",
       "      <td>45</td>\n",
       "      <td>91.836704</td>\n",
       "      <td>62</td>\n",
       "      <td>Bicycling</td>\n",
       "    </tr>\n",
       "    <tr>\n",
       "      <th>4</th>\n",
       "      <td>451383096</td>\n",
       "      <td>Skykandal</td>\n",
       "      <td>115</td>\n",
       "      <td>66</td>\n",
       "      <td>105.375030</td>\n",
       "      <td>43</td>\n",
       "      <td>Bicycling</td>\n",
       "    </tr>\n",
       "  </tbody>\n",
       "</table>\n",
       "</div>"
      ],
      "text/plain": [
       "          ID Measurement Device  Max  Heart Rate Min  Heart Rate Avg  \\\n",
       "0  902252007             B-Wolf  133              82      118.890640   \n",
       "1  544578830          Skykandal   94              66       93.261689   \n",
       "2  832870883          Skykandal   78              66       72.156150   \n",
       "3  554249407          Skykandal  123              45       91.836704   \n",
       "4  451383096          Skykandal  115              66      105.375030   \n",
       "\n",
       "   Duration of exercise (min) Exercise Type  \n",
       "0                          84       Running  \n",
       "1                          54     Bicycling  \n",
       "2                          29      Swimming  \n",
       "3                          62     Bicycling  \n",
       "4                          43     Bicycling  "
      ]
     },
     "execution_count": 14,
     "metadata": {},
     "output_type": "execute_result"
    }
   ],
   "source": [
    "df.rename(columns={'Heart Rate Max': 'Max'}, inplace=True)\n",
    "df.head()"
   ]
  },
  {
   "cell_type": "markdown",
   "id": "bf297222",
   "metadata": {},
   "source": [
    "As you can see, `rename` is a method that is \"attached\" to the dataframe, so we use dot notation for it and then it automatically knows what dataframe it is renaming. There are several ways to specify that we are renaming columns. I think the easiest one to read is the `columns` argument. `columns` then equals a dictionary where the key is the current column name and the value is the new name. Note that we then have a comma, because the whole `columns={'Heart Rate Max': 'Max'}` section was just the first argument.\n",
    "\n",
    "The `inplace` option is very common in pandas. When it is set to `True` whatever you are doing changes this dataframe. If it is set to `False` your operation generates a new dataframe that has been changed. By default it is `False`.\n",
    "\n",
    "Use of the `False` option is demonstrated here."
   ]
  },
  {
   "cell_type": "code",
   "execution_count": null,
   "id": "5d36cdfa",
   "metadata": {},
   "outputs": [],
   "source": [
    "new_frame = df.rename(columns={'Max': 'MAX!!!!'}, inplace=False)\n",
    "print('Original dataframe column names:', df.columns.values)\n",
    "print('New dataframe column names:', new_frame.columns.values)"
   ]
  },
  {
   "cell_type": "markdown",
   "id": "d5b1920a",
   "metadata": {},
   "source": [
    "As you can see, Max was changed to MAX!!!! only in the new frame (imaginatively named \"new_frame\") and not in the original frame. This is very useful when you aren't sure if what you are doing will work the way you think it will, and don't want to mess up your original dataframe.\n",
    "\n",
    "Since the `columns` argument of `rename` takes a dictionary you can change as many column names at once as you want.\n",
    "\n",
    "#### Below, write code that changes the names of `Heart Rate Min` to `Min` and `Duration of exercise` to `Duration`. Then print one of them, using the new name, to make sure it worked."
   ]
  },
  {
   "cell_type": "code",
   "execution_count": null,
   "id": "0f8b2dc2",
   "metadata": {},
   "outputs": [],
   "source": [
    "# put your code here\n"
   ]
  },
  {
   "cell_type": "markdown",
   "id": "02075180-f9f7-4f33-95d2-862bc33bd062",
   "metadata": {},
   "source": [
    "## Section 2.2: Rows and Cells"
   ]
  },
  {
   "cell_type": "markdown",
   "id": "738e1521",
   "metadata": {},
   "source": [
    "### Rows and Cells"
   ]
  },
  {
   "cell_type": "markdown",
   "id": "a8c5adcf",
   "metadata": {},
   "source": [
    "Accessing rows works off of the index column of the dataframe. We can print the index for each row below just to remind ourselves what it looks like."
   ]
  },
  {
   "cell_type": "code",
   "execution_count": 15,
   "id": "741d52b0",
   "metadata": {},
   "outputs": [
    {
     "data": {
      "text/plain": [
       "array([  0,   1,   2,   3,   4,   5,   6,   7,   8,   9,  10,  11,  12,\n",
       "        13,  14,  15,  16,  17,  18,  19,  20,  21,  22,  23,  24,  25,\n",
       "        26,  27,  28,  29,  30,  31,  32,  33,  34,  35,  36,  37,  38,\n",
       "        39,  40,  41,  42,  43,  44,  45,  46,  47,  48,  49,  50,  51,\n",
       "        52,  53,  54,  55,  56,  57,  58,  59,  60,  61,  62,  63,  64,\n",
       "        65,  66,  67,  68,  69,  70,  71,  72,  73,  74,  75,  76,  77,\n",
       "        78,  79,  80,  81,  82,  83,  84,  85,  86,  87,  88,  89,  90,\n",
       "        91,  92,  93,  94,  95,  96,  97,  98,  99, 100, 101, 102, 103,\n",
       "       104, 105, 106, 107, 108, 109, 110, 111, 112, 113, 114, 115, 116,\n",
       "       117, 118, 119, 120, 121, 122, 123, 124, 125, 126, 127, 128, 129,\n",
       "       130, 131, 132, 133, 134, 135, 136, 137, 138, 139, 140, 141, 142,\n",
       "       143, 144, 145, 146, 147, 148, 149, 150, 151, 152, 153, 154, 155,\n",
       "       156, 157, 158, 159, 160, 161, 162, 163, 164, 165, 166, 167, 168,\n",
       "       169, 170, 171, 172, 173, 174, 175, 176, 177, 178, 179, 180, 181,\n",
       "       182, 183, 184, 185, 186, 187, 188, 189, 190, 191, 192, 193, 194,\n",
       "       195, 196, 197, 198, 199, 200, 201, 202, 203, 204, 205, 206, 207,\n",
       "       208, 209, 210, 211, 212, 213, 214, 215, 216, 217, 218, 219, 220,\n",
       "       221, 222, 223, 224, 225, 226, 227, 228, 229, 230, 231, 232, 233,\n",
       "       234, 235, 236, 237, 238, 239, 240, 241, 242, 243, 244, 245, 246,\n",
       "       247, 248, 249, 250, 251, 252, 253, 254, 255, 256, 257, 258, 259,\n",
       "       260, 261, 262, 263, 264, 265, 266, 267, 268, 269, 270, 271, 272,\n",
       "       273, 274, 275, 276, 277, 278, 279, 280, 281, 282, 283, 284, 285,\n",
       "       286, 287, 288, 289, 290, 291, 292, 293, 294, 295, 296, 297, 298,\n",
       "       299, 300, 301, 302, 303, 304, 305, 306, 307, 308, 309, 310, 311,\n",
       "       312, 313, 314, 315, 316, 317, 318, 319, 320, 321, 322, 323, 324,\n",
       "       325, 326, 327, 328, 329, 330, 331, 332, 333, 334, 335, 336, 337,\n",
       "       338, 339, 340, 341, 342, 343, 344, 345, 346, 347, 348, 349, 350,\n",
       "       351, 352, 353, 354, 355, 356, 357, 358, 359, 360, 361, 362, 363,\n",
       "       364, 365, 366, 367, 368, 369, 370, 371, 372, 373, 374, 375, 376,\n",
       "       377, 378, 379, 380, 381, 382, 383, 384, 385, 386, 387, 388, 389,\n",
       "       390, 391, 392, 393, 394, 395, 396, 397, 398, 399, 400, 401, 402,\n",
       "       403, 404, 405, 406, 407, 408, 409, 410, 411, 412, 413, 414, 415,\n",
       "       416, 417, 418, 419, 420, 421, 422, 423, 424, 425, 426, 427, 428,\n",
       "       429, 430, 431, 432, 433, 434, 435, 436, 437, 438, 439, 440, 441,\n",
       "       442, 443, 444, 445, 446, 447, 448, 449, 450, 451, 452, 453, 454,\n",
       "       455, 456, 457, 458, 459, 460, 461, 462, 463, 464, 465, 466, 467,\n",
       "       468, 469, 470, 471, 472, 473, 474, 475, 476, 477, 478, 479, 480,\n",
       "       481, 482, 483, 484, 485, 486, 487, 488, 489, 490, 491, 492, 493,\n",
       "       494, 495, 496, 497, 498, 499])"
      ]
     },
     "execution_count": 15,
     "metadata": {},
     "output_type": "execute_result"
    }
   ],
   "source": [
    "df.index.values"
   ]
  },
  {
   "cell_type": "markdown",
   "id": "1eaf1303",
   "metadata": {},
   "source": [
    "We can see that our index is just row numbers. In some cases it may be something different. You can reset the index to be the ID number, or anything else. But let's not do that, because that isn't useful for the sorts of things we're trying to do.\n",
    "\n",
    "Instead, we will use the `loc` method of the dataframe to locate the row we want, by its index. Note that `loc` uses square brackets, like indexing from a list. Below, we will print out the second row (the first row would be index 0)."
   ]
  },
  {
   "cell_type": "code",
   "execution_count": 16,
   "id": "2c3ab350",
   "metadata": {},
   "outputs": [
    {
     "data": {
      "text/plain": [
       "ID                            544578830\n",
       "Measurement Device            Skykandal\n",
       "Max                                  94\n",
       "Heart Rate Min                       66\n",
       "Heart Rate Avg                93.261689\n",
       "Duration of exercise (min)           54\n",
       "Exercise Type                 Bicycling\n",
       "Name: 1, dtype: object"
      ]
     },
     "execution_count": 16,
     "metadata": {},
     "output_type": "execute_result"
    }
   ],
   "source": [
    "df.loc[1]"
   ]
  },
  {
   "cell_type": "markdown",
   "id": "16991f3a",
   "metadata": {},
   "source": [
    "We can also pass slice notation to `loc`. The code below replicates `df.head()`. It shows rows with index 0, 1, 2, 3, and 4."
   ]
  },
  {
   "cell_type": "code",
   "execution_count": 20,
   "id": "65d5f2eb",
   "metadata": {},
   "outputs": [
    {
     "data": {
      "text/html": [
       "<div>\n",
       "<style scoped>\n",
       "    .dataframe tbody tr th:only-of-type {\n",
       "        vertical-align: middle;\n",
       "    }\n",
       "\n",
       "    .dataframe tbody tr th {\n",
       "        vertical-align: top;\n",
       "    }\n",
       "\n",
       "    .dataframe thead th {\n",
       "        text-align: right;\n",
       "    }\n",
       "</style>\n",
       "<table border=\"1\" class=\"dataframe\">\n",
       "  <thead>\n",
       "    <tr style=\"text-align: right;\">\n",
       "      <th></th>\n",
       "      <th>ID</th>\n",
       "      <th>Measurement Device</th>\n",
       "      <th>Max</th>\n",
       "      <th>Heart Rate Min</th>\n",
       "      <th>Heart Rate Avg</th>\n",
       "      <th>Duration of exercise (min)</th>\n",
       "      <th>Exercise Type</th>\n",
       "    </tr>\n",
       "  </thead>\n",
       "  <tbody>\n",
       "    <tr>\n",
       "      <th>0</th>\n",
       "      <td>902252007</td>\n",
       "      <td>B-Wolf</td>\n",
       "      <td>133</td>\n",
       "      <td>82</td>\n",
       "      <td>118.890640</td>\n",
       "      <td>84</td>\n",
       "      <td>Running</td>\n",
       "    </tr>\n",
       "    <tr>\n",
       "      <th>1</th>\n",
       "      <td>544578830</td>\n",
       "      <td>Skykandal</td>\n",
       "      <td>94</td>\n",
       "      <td>66</td>\n",
       "      <td>93.261689</td>\n",
       "      <td>54</td>\n",
       "      <td>Bicycling</td>\n",
       "    </tr>\n",
       "    <tr>\n",
       "      <th>2</th>\n",
       "      <td>832870883</td>\n",
       "      <td>Skykandal</td>\n",
       "      <td>78</td>\n",
       "      <td>66</td>\n",
       "      <td>72.156150</td>\n",
       "      <td>29</td>\n",
       "      <td>Swimming</td>\n",
       "    </tr>\n",
       "    <tr>\n",
       "      <th>3</th>\n",
       "      <td>554249407</td>\n",
       "      <td>Skykandal</td>\n",
       "      <td>123</td>\n",
       "      <td>45</td>\n",
       "      <td>91.836704</td>\n",
       "      <td>62</td>\n",
       "      <td>Bicycling</td>\n",
       "    </tr>\n",
       "    <tr>\n",
       "      <th>4</th>\n",
       "      <td>451383096</td>\n",
       "      <td>Skykandal</td>\n",
       "      <td>115</td>\n",
       "      <td>66</td>\n",
       "      <td>105.375030</td>\n",
       "      <td>43</td>\n",
       "      <td>Bicycling</td>\n",
       "    </tr>\n",
       "  </tbody>\n",
       "</table>\n",
       "</div>"
      ],
      "text/plain": [
       "          ID Measurement Device  Max  Heart Rate Min  Heart Rate Avg  \\\n",
       "0  902252007             B-Wolf  133              82      118.890640   \n",
       "1  544578830          Skykandal   94              66       93.261689   \n",
       "2  832870883          Skykandal   78              66       72.156150   \n",
       "3  554249407          Skykandal  123              45       91.836704   \n",
       "4  451383096          Skykandal  115              66      105.375030   \n",
       "\n",
       "   Duration of exercise (min) Exercise Type  \n",
       "0                          84       Running  \n",
       "1                          54     Bicycling  \n",
       "2                          29      Swimming  \n",
       "3                          62     Bicycling  \n",
       "4                          43     Bicycling  "
      ]
     },
     "execution_count": 20,
     "metadata": {},
     "output_type": "execute_result"
    }
   ],
   "source": [
    "df.loc[0:4]"
   ]
  },
  {
   "cell_type": "markdown",
   "id": "d77b11b1",
   "metadata": {},
   "source": [
    "We can also use `loc` on a column, to give us a single cell. The code below gives us the ID at index 3."
   ]
  },
  {
   "cell_type": "code",
   "execution_count": 21,
   "id": "c49e4e72",
   "metadata": {},
   "outputs": [
    {
     "data": {
      "text/plain": [
       "554249407"
      ]
     },
     "execution_count": 21,
     "metadata": {},
     "output_type": "execute_result"
    }
   ],
   "source": [
    "df['ID'].loc[3]"
   ]
  },
  {
   "cell_type": "markdown",
   "id": "138af931",
   "metadata": {},
   "source": [
    "We can also do this with the multiple column lookup."
   ]
  },
  {
   "cell_type": "code",
   "execution_count": 22,
   "id": "600b66c1",
   "metadata": {},
   "outputs": [
    {
     "data": {
      "text/plain": [
       "ID                    554249407\n",
       "Measurement Device    Skykandal\n",
       "Name: 3, dtype: object"
      ]
     },
     "execution_count": 22,
     "metadata": {},
     "output_type": "execute_result"
    }
   ],
   "source": [
    "df[['ID', 'Measurement Device']].loc[3]"
   ]
  },
  {
   "cell_type": "markdown",
   "id": "aeef14eb",
   "metadata": {},
   "source": [
    "We can also get a cell directly with `loc` by specifying both row and column. If you give `loc` a tuple it will assume that it is (row, column). The code below will return the maximum heart rate ('Max') for the fourth row (index 3)."
   ]
  },
  {
   "cell_type": "code",
   "execution_count": null,
   "id": "245471ca",
   "metadata": {},
   "outputs": [],
   "source": [
    "df.loc[(3, 'Max')]"
   ]
  },
  {
   "cell_type": "markdown",
   "id": "1693201c-f47a-4d1c-a624-fd5f4cb027d3",
   "metadata": {},
   "source": [
    "You can also get both multiple columns and multiple rows, to get a sub-dataframe."
   ]
  },
  {
   "cell_type": "code",
   "execution_count": 23,
   "id": "c1a755ad-ce96-45a3-ace3-ff46de814aac",
   "metadata": {},
   "outputs": [
    {
     "data": {
      "text/html": [
       "<div>\n",
       "<style scoped>\n",
       "    .dataframe tbody tr th:only-of-type {\n",
       "        vertical-align: middle;\n",
       "    }\n",
       "\n",
       "    .dataframe tbody tr th {\n",
       "        vertical-align: top;\n",
       "    }\n",
       "\n",
       "    .dataframe thead th {\n",
       "        text-align: right;\n",
       "    }\n",
       "</style>\n",
       "<table border=\"1\" class=\"dataframe\">\n",
       "  <thead>\n",
       "    <tr style=\"text-align: right;\">\n",
       "      <th></th>\n",
       "      <th>ID</th>\n",
       "      <th>Measurement Device</th>\n",
       "    </tr>\n",
       "  </thead>\n",
       "  <tbody>\n",
       "    <tr>\n",
       "      <th>1</th>\n",
       "      <td>544578830</td>\n",
       "      <td>Skykandal</td>\n",
       "    </tr>\n",
       "    <tr>\n",
       "      <th>2</th>\n",
       "      <td>832870883</td>\n",
       "      <td>Skykandal</td>\n",
       "    </tr>\n",
       "    <tr>\n",
       "      <th>3</th>\n",
       "      <td>554249407</td>\n",
       "      <td>Skykandal</td>\n",
       "    </tr>\n",
       "  </tbody>\n",
       "</table>\n",
       "</div>"
      ],
      "text/plain": [
       "          ID Measurement Device\n",
       "1  544578830          Skykandal\n",
       "2  832870883          Skykandal\n",
       "3  554249407          Skykandal"
      ]
     },
     "execution_count": 23,
     "metadata": {},
     "output_type": "execute_result"
    }
   ],
   "source": [
    "df[['ID', 'Measurement Device']].loc[1:3]"
   ]
  },
  {
   "cell_type": "markdown",
   "id": "f4bca2fa",
   "metadata": {},
   "source": [
    "#### Below, write some code that does the inverse of `head` and prints the last five rows of the dataframe. However, leave out the ID column."
   ]
  },
  {
   "cell_type": "code",
   "execution_count": null,
   "id": "74a83358",
   "metadata": {},
   "outputs": [],
   "source": [
    "# your code goes here\n"
   ]
  },
  {
   "cell_type": "markdown",
   "id": "554c9061",
   "metadata": {},
   "source": [
    "(If you actually just want the inverse of `head` there's a command `tail` that does this. However, the purpose of the exercise above is practice.)"
   ]
  },
  {
   "cell_type": "markdown",
   "id": "e3289f53-c14b-47c7-a793-fba372c168fa",
   "metadata": {},
   "source": [
    "## Section 2.3 - Modifying Dataframes"
   ]
  },
  {
   "cell_type": "markdown",
   "id": "c2e6ef51",
   "metadata": {},
   "source": [
    "### Modifying Dataframes"
   ]
  },
  {
   "cell_type": "markdown",
   "id": "64b7288a",
   "metadata": {},
   "source": [
    "Adding a column to a dataframe is quite easy. Below, we will create a column that is simply the maximum heart rate divided by 2."
   ]
  },
  {
   "cell_type": "code",
   "execution_count": 25,
   "id": "d61a663b-b59d-4173-8ee1-6a5cc901b561",
   "metadata": {},
   "outputs": [
    {
     "data": {
      "text/html": [
       "<div>\n",
       "<style scoped>\n",
       "    .dataframe tbody tr th:only-of-type {\n",
       "        vertical-align: middle;\n",
       "    }\n",
       "\n",
       "    .dataframe tbody tr th {\n",
       "        vertical-align: top;\n",
       "    }\n",
       "\n",
       "    .dataframe thead th {\n",
       "        text-align: right;\n",
       "    }\n",
       "</style>\n",
       "<table border=\"1\" class=\"dataframe\">\n",
       "  <thead>\n",
       "    <tr style=\"text-align: right;\">\n",
       "      <th></th>\n",
       "      <th>ID</th>\n",
       "      <th>Measurement Device</th>\n",
       "      <th>Max</th>\n",
       "      <th>Heart Rate Min</th>\n",
       "      <th>Heart Rate Avg</th>\n",
       "      <th>Duration of exercise (min)</th>\n",
       "      <th>Exercise Type</th>\n",
       "    </tr>\n",
       "  </thead>\n",
       "  <tbody>\n",
       "    <tr>\n",
       "      <th>0</th>\n",
       "      <td>902252007</td>\n",
       "      <td>B-Wolf</td>\n",
       "      <td>133</td>\n",
       "      <td>82</td>\n",
       "      <td>118.890640</td>\n",
       "      <td>84</td>\n",
       "      <td>Running</td>\n",
       "    </tr>\n",
       "    <tr>\n",
       "      <th>1</th>\n",
       "      <td>544578830</td>\n",
       "      <td>Skykandal</td>\n",
       "      <td>94</td>\n",
       "      <td>66</td>\n",
       "      <td>93.261689</td>\n",
       "      <td>54</td>\n",
       "      <td>Bicycling</td>\n",
       "    </tr>\n",
       "    <tr>\n",
       "      <th>2</th>\n",
       "      <td>832870883</td>\n",
       "      <td>Skykandal</td>\n",
       "      <td>78</td>\n",
       "      <td>66</td>\n",
       "      <td>72.156150</td>\n",
       "      <td>29</td>\n",
       "      <td>Swimming</td>\n",
       "    </tr>\n",
       "    <tr>\n",
       "      <th>3</th>\n",
       "      <td>554249407</td>\n",
       "      <td>Skykandal</td>\n",
       "      <td>123</td>\n",
       "      <td>45</td>\n",
       "      <td>91.836704</td>\n",
       "      <td>62</td>\n",
       "      <td>Bicycling</td>\n",
       "    </tr>\n",
       "    <tr>\n",
       "      <th>4</th>\n",
       "      <td>451383096</td>\n",
       "      <td>Skykandal</td>\n",
       "      <td>115</td>\n",
       "      <td>66</td>\n",
       "      <td>105.375030</td>\n",
       "      <td>43</td>\n",
       "      <td>Bicycling</td>\n",
       "    </tr>\n",
       "  </tbody>\n",
       "</table>\n",
       "</div>"
      ],
      "text/plain": [
       "          ID Measurement Device  Max  Heart Rate Min  Heart Rate Avg  \\\n",
       "0  902252007             B-Wolf  133              82      118.890640   \n",
       "1  544578830          Skykandal   94              66       93.261689   \n",
       "2  832870883          Skykandal   78              66       72.156150   \n",
       "3  554249407          Skykandal  123              45       91.836704   \n",
       "4  451383096          Skykandal  115              66      105.375030   \n",
       "\n",
       "   Duration of exercise (min) Exercise Type  \n",
       "0                          84       Running  \n",
       "1                          54     Bicycling  \n",
       "2                          29      Swimming  \n",
       "3                          62     Bicycling  \n",
       "4                          43     Bicycling  "
      ]
     },
     "execution_count": 25,
     "metadata": {},
     "output_type": "execute_result"
    }
   ],
   "source": [
    "df.head()"
   ]
  },
  {
   "cell_type": "code",
   "execution_count": 30,
   "id": "1460caaa-24a0-43c6-99d3-b669fdceeb39",
   "metadata": {},
   "outputs": [
    {
     "data": {
      "text/html": [
       "<div>\n",
       "<style scoped>\n",
       "    .dataframe tbody tr th:only-of-type {\n",
       "        vertical-align: middle;\n",
       "    }\n",
       "\n",
       "    .dataframe tbody tr th {\n",
       "        vertical-align: top;\n",
       "    }\n",
       "\n",
       "    .dataframe thead th {\n",
       "        text-align: right;\n",
       "    }\n",
       "</style>\n",
       "<table border=\"1\" class=\"dataframe\">\n",
       "  <thead>\n",
       "    <tr style=\"text-align: right;\">\n",
       "      <th></th>\n",
       "      <th>ID</th>\n",
       "      <th>Measurement Device</th>\n",
       "      <th>Max</th>\n",
       "      <th>Heart Rate Min</th>\n",
       "      <th>Heart Rate Avg</th>\n",
       "      <th>Duration of exercise (min)</th>\n",
       "      <th>Exercise Type</th>\n",
       "      <th>A</th>\n",
       "      <th>Max minus 2</th>\n",
       "    </tr>\n",
       "  </thead>\n",
       "  <tbody>\n",
       "    <tr>\n",
       "      <th>0</th>\n",
       "      <td>902252007</td>\n",
       "      <td>B-Wolf</td>\n",
       "      <td>133</td>\n",
       "      <td>82</td>\n",
       "      <td>118.890640</td>\n",
       "      <td>84</td>\n",
       "      <td>Running</td>\n",
       "      <td>A</td>\n",
       "      <td>131</td>\n",
       "    </tr>\n",
       "    <tr>\n",
       "      <th>1</th>\n",
       "      <td>544578830</td>\n",
       "      <td>Skykandal</td>\n",
       "      <td>94</td>\n",
       "      <td>66</td>\n",
       "      <td>93.261689</td>\n",
       "      <td>54</td>\n",
       "      <td>Bicycling</td>\n",
       "      <td>A</td>\n",
       "      <td>92</td>\n",
       "    </tr>\n",
       "    <tr>\n",
       "      <th>2</th>\n",
       "      <td>832870883</td>\n",
       "      <td>Skykandal</td>\n",
       "      <td>78</td>\n",
       "      <td>66</td>\n",
       "      <td>72.156150</td>\n",
       "      <td>29</td>\n",
       "      <td>Swimming</td>\n",
       "      <td>A</td>\n",
       "      <td>76</td>\n",
       "    </tr>\n",
       "    <tr>\n",
       "      <th>3</th>\n",
       "      <td>554249407</td>\n",
       "      <td>Skykandal</td>\n",
       "      <td>123</td>\n",
       "      <td>45</td>\n",
       "      <td>91.836704</td>\n",
       "      <td>62</td>\n",
       "      <td>Bicycling</td>\n",
       "      <td>A</td>\n",
       "      <td>121</td>\n",
       "    </tr>\n",
       "    <tr>\n",
       "      <th>4</th>\n",
       "      <td>451383096</td>\n",
       "      <td>Skykandal</td>\n",
       "      <td>115</td>\n",
       "      <td>66</td>\n",
       "      <td>105.375030</td>\n",
       "      <td>43</td>\n",
       "      <td>Bicycling</td>\n",
       "      <td>A</td>\n",
       "      <td>113</td>\n",
       "    </tr>\n",
       "  </tbody>\n",
       "</table>\n",
       "</div>"
      ],
      "text/plain": [
       "          ID Measurement Device  Max  Heart Rate Min  Heart Rate Avg  \\\n",
       "0  902252007             B-Wolf  133              82      118.890640   \n",
       "1  544578830          Skykandal   94              66       93.261689   \n",
       "2  832870883          Skykandal   78              66       72.156150   \n",
       "3  554249407          Skykandal  123              45       91.836704   \n",
       "4  451383096          Skykandal  115              66      105.375030   \n",
       "\n",
       "   Duration of exercise (min) Exercise Type  A  Max minus 2  \n",
       "0                          84       Running  A          131  \n",
       "1                          54     Bicycling  A           92  \n",
       "2                          29      Swimming  A           76  \n",
       "3                          62     Bicycling  A          121  \n",
       "4                          43     Bicycling  A          113  "
      ]
     },
     "execution_count": 30,
     "metadata": {},
     "output_type": "execute_result"
    }
   ],
   "source": [
    "df['A'] = 'A'\n",
    "df.head()"
   ]
  },
  {
   "cell_type": "code",
   "execution_count": 31,
   "id": "78215145",
   "metadata": {
    "scrolled": true
   },
   "outputs": [
    {
     "data": {
      "text/html": [
       "<div>\n",
       "<style scoped>\n",
       "    .dataframe tbody tr th:only-of-type {\n",
       "        vertical-align: middle;\n",
       "    }\n",
       "\n",
       "    .dataframe tbody tr th {\n",
       "        vertical-align: top;\n",
       "    }\n",
       "\n",
       "    .dataframe thead th {\n",
       "        text-align: right;\n",
       "    }\n",
       "</style>\n",
       "<table border=\"1\" class=\"dataframe\">\n",
       "  <thead>\n",
       "    <tr style=\"text-align: right;\">\n",
       "      <th></th>\n",
       "      <th>ID</th>\n",
       "      <th>Measurement Device</th>\n",
       "      <th>Max</th>\n",
       "      <th>Heart Rate Min</th>\n",
       "      <th>Heart Rate Avg</th>\n",
       "      <th>Duration of exercise (min)</th>\n",
       "      <th>Exercise Type</th>\n",
       "      <th>A</th>\n",
       "      <th>Max minus 2</th>\n",
       "    </tr>\n",
       "  </thead>\n",
       "  <tbody>\n",
       "    <tr>\n",
       "      <th>0</th>\n",
       "      <td>902252007</td>\n",
       "      <td>B-Wolf</td>\n",
       "      <td>133</td>\n",
       "      <td>82</td>\n",
       "      <td>118.890640</td>\n",
       "      <td>84</td>\n",
       "      <td>Running</td>\n",
       "      <td>A</td>\n",
       "      <td>131</td>\n",
       "    </tr>\n",
       "    <tr>\n",
       "      <th>1</th>\n",
       "      <td>544578830</td>\n",
       "      <td>Skykandal</td>\n",
       "      <td>94</td>\n",
       "      <td>66</td>\n",
       "      <td>93.261689</td>\n",
       "      <td>54</td>\n",
       "      <td>Bicycling</td>\n",
       "      <td>A</td>\n",
       "      <td>92</td>\n",
       "    </tr>\n",
       "    <tr>\n",
       "      <th>2</th>\n",
       "      <td>832870883</td>\n",
       "      <td>Skykandal</td>\n",
       "      <td>78</td>\n",
       "      <td>66</td>\n",
       "      <td>72.156150</td>\n",
       "      <td>29</td>\n",
       "      <td>Swimming</td>\n",
       "      <td>A</td>\n",
       "      <td>76</td>\n",
       "    </tr>\n",
       "    <tr>\n",
       "      <th>3</th>\n",
       "      <td>554249407</td>\n",
       "      <td>Skykandal</td>\n",
       "      <td>123</td>\n",
       "      <td>45</td>\n",
       "      <td>91.836704</td>\n",
       "      <td>62</td>\n",
       "      <td>Bicycling</td>\n",
       "      <td>A</td>\n",
       "      <td>121</td>\n",
       "    </tr>\n",
       "    <tr>\n",
       "      <th>4</th>\n",
       "      <td>451383096</td>\n",
       "      <td>Skykandal</td>\n",
       "      <td>115</td>\n",
       "      <td>66</td>\n",
       "      <td>105.375030</td>\n",
       "      <td>43</td>\n",
       "      <td>Bicycling</td>\n",
       "      <td>A</td>\n",
       "      <td>113</td>\n",
       "    </tr>\n",
       "  </tbody>\n",
       "</table>\n",
       "</div>"
      ],
      "text/plain": [
       "          ID Measurement Device  Max  Heart Rate Min  Heart Rate Avg  \\\n",
       "0  902252007             B-Wolf  133              82      118.890640   \n",
       "1  544578830          Skykandal   94              66       93.261689   \n",
       "2  832870883          Skykandal   78              66       72.156150   \n",
       "3  554249407          Skykandal  123              45       91.836704   \n",
       "4  451383096          Skykandal  115              66      105.375030   \n",
       "\n",
       "   Duration of exercise (min) Exercise Type  A  Max minus 2  \n",
       "0                          84       Running  A          131  \n",
       "1                          54     Bicycling  A           92  \n",
       "2                          29      Swimming  A           76  \n",
       "3                          62     Bicycling  A          121  \n",
       "4                          43     Bicycling  A          113  "
      ]
     },
     "execution_count": 31,
     "metadata": {},
     "output_type": "execute_result"
    }
   ],
   "source": [
    "df['Max minus 2'] = df['Max'] - 2\n",
    "df.head()"
   ]
  },
  {
   "cell_type": "markdown",
   "id": "efcd57ea",
   "metadata": {},
   "source": [
    "All we had to do here was name a new column (much like adding a key to a dictionary) and set it equal to something else.\n",
    "\n",
    "However, the thing we set it equal to must be either a single item or a list equal in length to the other columns. The code below shows what happens with a single item: it is just repeated in every cell of that column."
   ]
  },
  {
   "cell_type": "code",
   "execution_count": null,
   "id": "8f648a3d",
   "metadata": {},
   "outputs": [],
   "source": [
    "df['Two'] = 2\n",
    "df.head()"
   ]
  },
  {
   "cell_type": "markdown",
   "id": "97dd0293",
   "metadata": {},
   "source": [
    "This will break. We're specifying a length for the column, but it's two, and the other columns are length 500."
   ]
  },
  {
   "cell_type": "code",
   "execution_count": null,
   "id": "4be3a6fd",
   "metadata": {},
   "outputs": [],
   "source": [
    "df['Breaking'] = [2, 2]"
   ]
  },
  {
   "cell_type": "markdown",
   "id": "41c382f8",
   "metadata": {},
   "source": [
    "In later notebooks we'll generate data the same length as existing columns and fill new columns with it. For now, just remember not to fill a column with data that has a length but is the wrong length.\n",
    "\n",
    "How do we remove a column? We use the `drop` method, which has a similar argument structure to `rename`. Here we just list the column names to drop. Again, `inplace=True` means \"do this to the current dataframe\".\n",
    "\n",
    "The code below drops/removes the column named 'Two'."
   ]
  },
  {
   "cell_type": "code",
   "execution_count": null,
   "id": "483c88ef",
   "metadata": {},
   "outputs": [],
   "source": [
    "df.drop(columns=['Two'], inplace=True)\n",
    "df.head()"
   ]
  },
  {
   "cell_type": "markdown",
   "id": "987de1ec",
   "metadata": {},
   "source": [
    "If you run that code above again it will fail, since the column Two no longer exists to be dropped.\n",
    "\n",
    "The `drop` command can also be used to drop rows. By default, `drop` actually expects you to drop rows, and so you can simply provide an index to drop."
   ]
  },
  {
   "cell_type": "code",
   "execution_count": null,
   "id": "822c091b",
   "metadata": {},
   "outputs": [],
   "source": [
    "df.drop(0, inplace=True)\n",
    "df.head()"
   ]
  },
  {
   "cell_type": "markdown",
   "id": "cb3b5920",
   "metadata": {},
   "source": [
    "However, while column creation and deletion are common in analysis, adding and deleting rows is less useful. Most row deletion happens as part of filtering, which we will cover in an upcoming notebook.\n",
    "\n",
    "Creating rows is less useful (normally), and is somewhat harder to do. To add a row you create an entire new dataframe and then use the `concat` function to add the dataframes together. We won't cover this further here."
   ]
  },
  {
   "cell_type": "markdown",
   "id": "a55be2b1",
   "metadata": {},
   "source": [
    "### Creating Dataframes\n",
    "Creating dataframes can be useful in analysis. You may want to process data and make a new frame from the processed data only. So, how do we make a dataframe? The easiest way is to make a dictionary and then use `pd.DataFrame` to make it into a dataframe.\n",
    "\n",
    "Why `pd.DataFrame`? `DataFrame` is a function from the pandas library. The `pd.DataFrame` notation means \"DataFrame, from the pandas library\" (much like `df.head()` means \"head, of the frame df\"). This is one reason we want to import pandas and change the name to pd, because we'll type pd a lot doing analysis with pandas."
   ]
  },
  {
   "cell_type": "code",
   "execution_count": null,
   "id": "df066965",
   "metadata": {},
   "outputs": [],
   "source": [
    "test_dict = {'Column One': [1, 2], 'Column Two': [20, 78], 'Colum Three': ['C', 'K']}\n",
    "new_df = pd.DataFrame(test_dict)\n",
    "new_df.head()"
   ]
  },
  {
   "cell_type": "markdown",
   "id": "ca688818",
   "metadata": {},
   "source": [
    "#### Below, make a dictionary with at least three keys. One of the lists of values should be all numbers. Then turn it into a dataframe and use `head` to check that it worked."
   ]
  },
  {
   "cell_type": "code",
   "execution_count": null,
   "id": "3d34c16e",
   "metadata": {},
   "outputs": [],
   "source": [
    "# your code goes here\n"
   ]
  },
  {
   "cell_type": "markdown",
   "id": "f2d660d9",
   "metadata": {},
   "source": [
    "#### Now, create a new column that is your column of numbers divided by two. Again, use `head` to check your work."
   ]
  },
  {
   "cell_type": "code",
   "execution_count": null,
   "id": "db336d69",
   "metadata": {},
   "outputs": [],
   "source": [
    "# your code goes here\n"
   ]
  },
  {
   "cell_type": "markdown",
   "id": "0861dcc6",
   "metadata": {},
   "source": [
    "#### Finally, drop one of your columns. As before, use `head` to check that it happened correctly."
   ]
  },
  {
   "cell_type": "code",
   "execution_count": null,
   "id": "97c2afd7",
   "metadata": {},
   "outputs": [],
   "source": [
    "# your code goes here\n"
   ]
  },
  {
   "cell_type": "markdown",
   "id": "53d40244",
   "metadata": {},
   "source": [
    "### Combining Dataframes\n",
    "One thing that you do often need to do when you make dataframes is merge them together. We will need some very small dataframes to see this behavior in."
   ]
  },
  {
   "cell_type": "code",
   "execution_count": null,
   "id": "eb57e9a7",
   "metadata": {},
   "outputs": [],
   "source": [
    "dict_1 = {'ID': [1, 3, 5, 7, 9], 'B': [True, True, False, True, False]}\n",
    "dict_2 = {'ID': [1, 2, 3, 4, 5], 'C': [57, 89, 23, 12, 65]}\n",
    "dict_3 = {'ID_num': [1, 2, 3, 4, 5], 'C': [57, 89, 23, 12, 65]}\n",
    "dict_4 = {'ID': [1, 2, 3, 4, 5], 'B': [57, 89, 23, 12, 65]}\n",
    "\n",
    "frame_1 = pd.DataFrame(dict_1)\n",
    "frame_2 = pd.DataFrame(dict_2)\n",
    "frame_3 = pd.DataFrame(dict_3)\n",
    "frame_4 = pd.DataFrame(dict_4)"
   ]
  },
  {
   "cell_type": "markdown",
   "id": "4318db11",
   "metadata": {},
   "source": [
    "frame_1 and frame_2 are meant to be matched. Each contains some of the same IDs but different variables in each frame. frame_3 is frame_2 but now ID is ID_num. frame_4 is frame_2 but now C is called B.\n",
    "\n",
    "The simplest way to combine two dataframes is to just stick them together. `concat` will do this. It's not a dataframe method, so we write it `pd.concat` so Python knows to go looking for the function in pands."
   ]
  },
  {
   "cell_type": "code",
   "execution_count": null,
   "id": "b6742638",
   "metadata": {},
   "outputs": [],
   "source": [
    "pd.concat([frame_1, frame_2])"
   ]
  },
  {
   "cell_type": "markdown",
   "id": "76ea1a8d",
   "metadata": {},
   "source": [
    "The syntax is simple: pass a list of frames to concatenate (add together).\n",
    "\n",
    "#### Below, write code to concatenate all three frames together at once."
   ]
  },
  {
   "cell_type": "code",
   "execution_count": null,
   "id": "f5c879f3",
   "metadata": {},
   "outputs": [],
   "source": [
    "# your code goes here\n"
   ]
  },
  {
   "cell_type": "markdown",
   "id": "850d2d65",
   "metadata": {},
   "source": [
    "There are some other `concat` options, but the issue with `concat` is that items that are the same (like ID 1) just get repeated. We would really like to attach dataframes in such a way that all items with IDs get their data filled in from B and C. To do this we use `pd.merge`. Here, we can only merge two frames at a time, so instead of a list we just pass both frames as arguments."
   ]
  },
  {
   "cell_type": "code",
   "execution_count": null,
   "id": "f915efb4",
   "metadata": {},
   "outputs": [],
   "source": [
    "m = pd.merge(frame_1, frame_2)\n",
    "m.head()"
   ]
  },
  {
   "cell_type": "markdown",
   "id": "b26a62ad",
   "metadata": {},
   "source": [
    "This gave us columns ID, B, and C for all items present in ID in both dataframes (all odd numbers between 1-5). Why ID? Because the column names matched.\n",
    "       \n",
    "If we attempt to merge frame_1 with frame_4 we do need to specify what column to use. Remember, frame_4 is frame_2, except that column C is called B, which means that frame_1 and frame_4 have two identical column names. If we do nothing this is what we get:"
   ]
  },
  {
   "cell_type": "code",
   "execution_count": null,
   "id": "cf2a56f0",
   "metadata": {},
   "outputs": [],
   "source": [
    "m = pd.merge(frame_1, frame_4)\n",
    "m.head(10)"
   ]
  },
  {
   "cell_type": "markdown",
   "id": "eb257a6a",
   "metadata": {},
   "source": [
    "Since no rows match in both ID and B we get nothing. We should specify that ID is the real match using the `on` keyword."
   ]
  },
  {
   "cell_type": "code",
   "execution_count": null,
   "id": "7224f69a",
   "metadata": {},
   "outputs": [],
   "source": [
    "m = pd.merge(frame_1, frame_4, on='ID')\n",
    "m.head(10)"
   ]
  },
  {
   "cell_type": "markdown",
   "id": "dd158b95",
   "metadata": {},
   "source": [
    "Note that this relabels the two different column Bs with underscore and a letter (x and y, by default). Columns with different names would not need this relabeling.\n",
    "\n",
    "What if the columns are the same but don't have the same name? We can name equivalent columns with `right_on` and `left_on`. Right and left refer to the position of the dataframes in the argument list. (E.g., left is the first one, right is the second one.)\n",
    "\n",
    "frame_3 was created to show this. It is frame_2, but with ID_num instead of ID."
   ]
  },
  {
   "cell_type": "code",
   "execution_count": null,
   "id": "89d4a0e4",
   "metadata": {},
   "outputs": [],
   "source": [
    "m = pd.merge(frame_1, frame_3, left_on='ID', right_on='ID_num')\n",
    "m.head(10)"
   ]
  },
  {
   "cell_type": "markdown",
   "id": "a7e065c5",
   "metadata": {},
   "source": [
    "We still get both named columns, but we specified that ID on the left (frame_1) was to be matched to ID_num on the right (frame_3) and so we successfully combined the dataframes intelligently.\n",
    "\n",
    "However, right now we got only items in ID that were present in both dataframes.We can change this behavior with the keyword `how`. We have four simple options:\n",
    "- Inner: This is the default, where only items present in the matching column in both frames are included.\n",
    "- Outer: All items are included.\n",
    "- Left: All columns in the left dataframe (in the order you write them in `pd.merge()`) are kept, ones only present in the right dataframe are discarded.\n",
    "- Right: The opposite of left.\n",
    "\n",
    "We simply write `how=` and then the lowercase name of the join type in either single or double quotes. Here's an outer join version of merging frame_1 and frame_2."
   ]
  },
  {
   "cell_type": "code",
   "execution_count": null,
   "id": "295c861d",
   "metadata": {},
   "outputs": [],
   "source": [
    "m = pd.merge(frame_1, frame_2, how='outer')\n",
    "m.head(10)"
   ]
  },
  {
   "cell_type": "markdown",
   "id": "85954825",
   "metadata": {},
   "source": [
    "You'll see that any column with no data, like column B for where A is 4, becomes NaN. We'll discuss this more in the next notebook, but NaN is a blank cell.\n",
    "\n",
    "#### Below, run a left merge on frame_1 and frame_3. Remember to specify how to merge them!"
   ]
  },
  {
   "cell_type": "code",
   "execution_count": null,
   "id": "988b0e5f",
   "metadata": {},
   "outputs": [],
   "source": [
    "# your code goes here\n"
   ]
  },
  {
   "cell_type": "markdown",
   "id": "ef39f0f2",
   "metadata": {},
   "source": [
    "That concludes data structures. Next up, we'll discuss cleaning up issues like these blank cells we created in our merges."
   ]
  }
 ],
 "metadata": {
  "kernelspec": {
   "display_name": "Python 3 (ipykernel)",
   "language": "python",
   "name": "python3"
  },
  "language_info": {
   "codemirror_mode": {
    "name": "ipython",
    "version": 3
   },
   "file_extension": ".py",
   "mimetype": "text/x-python",
   "name": "python",
   "nbconvert_exporter": "python",
   "pygments_lexer": "ipython3",
   "version": "3.10.13"
  }
 },
 "nbformat": 4,
 "nbformat_minor": 5
}
