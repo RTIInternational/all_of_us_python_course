{
 "cells": [
  {
   "cell_type": "markdown",
   "id": "a4319c69-2812-4daf-9499-0d8d6c31709c",
   "metadata": {},
   "source": [
    "# Working with Dates and Times"
   ]
  },
  {
   "cell_type": "markdown",
   "id": "4f8076fa-9c13-4ce6-ad87-db701a5070dc",
   "metadata": {},
   "source": [
    "## Summary\n",
    "In this notebook, we'll be covering:\n",
    "- [The Datetime Library](#The-Datetime-Library)\n",
    "- [Datetimes in Pandas](#Datetimes-in-Pandas)"
   ]
  },
  {
   "cell_type": "markdown",
   "id": "768f80fa-2b0a-4e45-bdf8-aed431611d14",
   "metadata": {},
   "source": [
    "Working with dates and times in Python can often be confusing at first. For example, you know how to use Python to evaluate 4 - 3 (which equals 1, of course). But how can we use Python to compute the number of days betweeen Jan 7, 2012 and March 23, 2017? \n",
    "\n",
    "Thankfully, computers are good at these sorts of calculations, and Python provide a library for working with dates and times that makes these sorts of calculations very straightforward. If you don't intend to work with date and time information in this way this section is something you can safely skip, but if you do this will save you a lot of time and frustration."
   ]
  },
  {
   "cell_type": "markdown",
   "id": "7d5bd31e",
   "metadata": {},
   "source": [
    "### The Datetime Library\n",
    "Python provides a library for handling dates and time called \"datetime\". Not only is the datetime library useful on its own, but it also integrates nicely with pandas.\n",
    "\n",
    "First, we need to import datetime. By convention, datetime is typically imported and renamed to \"dt\"."
   ]
  },
  {
   "cell_type": "code",
   "execution_count": 1,
   "id": "1d5f05e4",
   "metadata": {},
   "outputs": [
    {
     "name": "stdout",
     "output_type": "stream",
     "text": [
      "The history saving thread hit an unexpected error (OperationalError('attempt to write a readonly database')).History will not be written to the database.\n"
     ]
    }
   ],
   "source": [
    "import datetime as dt"
   ]
  },
  {
   "cell_type": "markdown",
   "id": "bd3c52bc",
   "metadata": {},
   "source": [
    "First, let's create two datetime objects that we can play with."
   ]
  },
  {
   "cell_type": "code",
   "execution_count": 2,
   "id": "8e49f7c0",
   "metadata": {},
   "outputs": [
    {
     "name": "stdout",
     "output_type": "stream",
     "text": [
      "2024-07-09 09:58:59.462661\n",
      "1997-02-18 02:17:39\n"
     ]
    }
   ],
   "source": [
    "present = dt.datetime.now()\n",
    "print(present)\n",
    "past = dt.datetime(year=1997, month=2, day=18, hour=2, minute=17, second=39)\n",
    "print(past)"
   ]
  },
  {
   "cell_type": "markdown",
   "id": "af0df26e",
   "metadata": {},
   "source": [
    "Above, we created a variable `present` that grabbed the time the moment you ran that cell. If you run it again, `present` will change because it will be reset to the new time. We also created a variable `past` that we set to 2:17:39 am on February 18th, 1997. (We could easily set it to 2 pm by setting the time to 14. Or, if you don't love 24-hour time, setting it equal to 2 + 12.)\n",
    "\n",
    "You can also now see why the datetime library is renamed as \"dt\": datetime (the library) has another object in it called datetime! When we ran `dt.datetime.now()` we asked for the `now()` function in the `datetime` object in the `datetime` library, which is under the alias `dt`. It can be easier to read if one of these datetimes is dt and the other datetime.\n",
    "\n",
    "Let's do some simple math now to determine how long it has been since 2:17:39 am on February 18th, 1997."
   ]
  },
  {
   "cell_type": "code",
   "execution_count": 3,
   "id": "65376a27",
   "metadata": {},
   "outputs": [
    {
     "name": "stdout",
     "output_type": "stream",
     "text": [
      "10003 days, 7:41:20.462661\n"
     ]
    }
   ],
   "source": [
    "diff = present - past\n",
    "print(diff)"
   ]
  },
  {
   "cell_type": "markdown",
   "id": "f3c2cc4b",
   "metadata": {},
   "source": [
    "`diff` is a `timedelta` object, a datetime object that stores the differences between other datetime objects. It has three attributes we can access: days, seconds, and microseconds. For instance, if we just want the days since `past` we can write:"
   ]
  },
  {
   "cell_type": "code",
   "execution_count": 4,
   "id": "7ddaf499",
   "metadata": {},
   "outputs": [
    {
     "data": {
      "text/plain": [
       "10003"
      ]
     },
     "execution_count": 4,
     "metadata": {},
     "output_type": "execute_result"
    }
   ],
   "source": [
    "diff.days"
   ]
  },
  {
   "cell_type": "markdown",
   "id": "b81702ee",
   "metadata": {},
   "source": [
    "If we want seconds this will work:"
   ]
  },
  {
   "cell_type": "code",
   "execution_count": 5,
   "id": "44187c78",
   "metadata": {},
   "outputs": [
    {
     "data": {
      "text/plain": [
       "27680"
      ]
     },
     "execution_count": 5,
     "metadata": {},
     "output_type": "execute_result"
    }
   ],
   "source": [
    "diff.seconds"
   ]
  },
  {
   "cell_type": "markdown",
   "id": "47557a5c",
   "metadata": {},
   "source": [
    "Note, however, that diff.seconds only gave us the seconds that were NOT included as days! If we actually wanted to measure the total number of seconds since `past` we would need to write this:"
   ]
  },
  {
   "cell_type": "code",
   "execution_count": 6,
   "id": "ca611b89",
   "metadata": {},
   "outputs": [
    {
     "name": "stdout",
     "output_type": "stream",
     "text": [
      "864286880\n"
     ]
    }
   ],
   "source": [
    "seconds = diff.seconds + (diff.days * 24 * 60 * 60)\n",
    "print(seconds)"
   ]
  },
  {
   "cell_type": "markdown",
   "id": "ea6e5658",
   "metadata": {},
   "source": [
    "#### Quickly, just for practice, make another variable that uses dt.datetime.now() to set a time to the current runtime, and print how many seconds since the variable called present."
   ]
  },
  {
   "cell_type": "code",
   "execution_count": null,
   "id": "2635d856",
   "metadata": {},
   "outputs": [],
   "source": [
    "# your code goes here\n"
   ]
  },
  {
   "cell_type": "markdown",
   "id": "ad2cdab2",
   "metadata": {},
   "source": [
    "### Datetimes in Pandas\n",
    "Let's now work with some datetime objects in a pandas dataframe. The code below will create a dataframe with an intake date and a discharge date for 50 people, presumably at a hospital."
   ]
  },
  {
   "cell_type": "code",
   "execution_count": 7,
   "id": "6944b38c",
   "metadata": {},
   "outputs": [
    {
     "data": {
      "text/html": [
       "<div>\n",
       "<style scoped>\n",
       "    .dataframe tbody tr th:only-of-type {\n",
       "        vertical-align: middle;\n",
       "    }\n",
       "\n",
       "    .dataframe tbody tr th {\n",
       "        vertical-align: top;\n",
       "    }\n",
       "\n",
       "    .dataframe thead th {\n",
       "        text-align: right;\n",
       "    }\n",
       "</style>\n",
       "<table border=\"1\" class=\"dataframe\">\n",
       "  <thead>\n",
       "    <tr style=\"text-align: right;\">\n",
       "      <th></th>\n",
       "      <th>Intake</th>\n",
       "      <th>Discharge</th>\n",
       "    </tr>\n",
       "  </thead>\n",
       "  <tbody>\n",
       "    <tr>\n",
       "      <th>0</th>\n",
       "      <td>1990-06-04 04:00:00</td>\n",
       "      <td>1990-06-08 06:29:53</td>\n",
       "    </tr>\n",
       "    <tr>\n",
       "      <th>1</th>\n",
       "      <td>2014-02-05 07:00:00</td>\n",
       "      <td>2014-02-09 13:10:29</td>\n",
       "    </tr>\n",
       "    <tr>\n",
       "      <th>2</th>\n",
       "      <td>1990-04-02 23:00:00</td>\n",
       "      <td>1990-04-29 16:38:05</td>\n",
       "    </tr>\n",
       "    <tr>\n",
       "      <th>3</th>\n",
       "      <td>1992-11-04 11:00:00</td>\n",
       "      <td>1992-11-16 01:35:04</td>\n",
       "    </tr>\n",
       "    <tr>\n",
       "      <th>4</th>\n",
       "      <td>2019-01-14 17:00:00</td>\n",
       "      <td>2019-02-01 10:19:14</td>\n",
       "    </tr>\n",
       "  </tbody>\n",
       "</table>\n",
       "</div>"
      ],
      "text/plain": [
       "               Intake           Discharge\n",
       "0 1990-06-04 04:00:00 1990-06-08 06:29:53\n",
       "1 2014-02-05 07:00:00 2014-02-09 13:10:29\n",
       "2 1990-04-02 23:00:00 1990-04-29 16:38:05\n",
       "3 1992-11-04 11:00:00 1992-11-16 01:35:04\n",
       "4 2019-01-14 17:00:00 2019-02-01 10:19:14"
      ]
     },
     "execution_count": 7,
     "metadata": {},
     "output_type": "execute_result"
    }
   ],
   "source": [
    "import random\n",
    "import pandas as pd\n",
    "\n",
    "date_dict = {'Intake': [], 'Discharge': []}\n",
    "\n",
    "for x in range(0, 50):\n",
    "    year = random.randint(1990, 2020)\n",
    "    intake = dt.datetime(year=year, month=random.randint(1, 12), day=random.randint(1, 28), \n",
    "                         hour=random.randint(0, 23))\n",
    "    discharge = intake + dt.timedelta(days=random.randint(0, 30), seconds=random.randint(60 * 60, 23 * 60 * 60))\n",
    "    date_dict['Intake'].append(intake)\n",
    "    date_dict['Discharge'].append(discharge)\n",
    "    \n",
    "date_frame = pd.DataFrame(date_dict)\n",
    "date_frame.head()"
   ]
  },
  {
   "cell_type": "markdown",
   "id": "b8ef7ed2",
   "metadata": {},
   "source": [
    "Let's check the dtypes."
   ]
  },
  {
   "cell_type": "code",
   "execution_count": 8,
   "id": "f156e262",
   "metadata": {},
   "outputs": [
    {
     "data": {
      "text/plain": [
       "Intake       datetime64[ns]\n",
       "Discharge    datetime64[ns]\n",
       "dtype: object"
      ]
     },
     "execution_count": 8,
     "metadata": {},
     "output_type": "execute_result"
    }
   ],
   "source": [
    "date_frame.dtypes"
   ]
  },
  {
   "cell_type": "markdown",
   "id": "4fe6c250",
   "metadata": {},
   "source": [
    "As you can see, the dtypes are `datetimes64[ns]`. They are pandas datetime objects, and you can do math with them and get timedelta objects, just like we did above using the datetime library. Technically, they are slightly different than datetime, but the concepts are very similar.\n",
    "\n",
    "One difference is how we access the year, month, day, etc. In the case of the pandas row we need to do `.dt.year` instead of just `.year` (or whatever time period). The code below prints the year for every intake."
   ]
  },
  {
   "cell_type": "code",
   "execution_count": 9,
   "id": "df2db890",
   "metadata": {},
   "outputs": [
    {
     "data": {
      "text/plain": [
       "0     1990\n",
       "1     2014\n",
       "2     1990\n",
       "3     1992\n",
       "4     2019\n",
       "5     1993\n",
       "6     2012\n",
       "7     1996\n",
       "8     2008\n",
       "9     1999\n",
       "10    1995\n",
       "11    1992\n",
       "12    2010\n",
       "13    2007\n",
       "14    1997\n",
       "15    2019\n",
       "16    2009\n",
       "17    1993\n",
       "18    1996\n",
       "19    2012\n",
       "20    2012\n",
       "21    1992\n",
       "22    2004\n",
       "23    1998\n",
       "24    1990\n",
       "25    2010\n",
       "26    1993\n",
       "27    2016\n",
       "28    2006\n",
       "29    1995\n",
       "30    1995\n",
       "31    2016\n",
       "32    2018\n",
       "33    2006\n",
       "34    2000\n",
       "35    1997\n",
       "36    2020\n",
       "37    2018\n",
       "38    2014\n",
       "39    1995\n",
       "40    2020\n",
       "41    2002\n",
       "42    2003\n",
       "43    2013\n",
       "44    2016\n",
       "45    2013\n",
       "46    2016\n",
       "47    1992\n",
       "48    2016\n",
       "49    1992\n",
       "Name: Intake, dtype: int32"
      ]
     },
     "execution_count": 9,
     "metadata": {},
     "output_type": "execute_result"
    }
   ],
   "source": [
    "date_frame['Intake'].dt.year"
   ]
  },
  {
   "cell_type": "markdown",
   "id": "38b760a3",
   "metadata": {},
   "source": [
    "However, the pandas version has some nice extra features. What if you suspected that the care patients got was different during weekdays versus weekends, or that certain sorts of patients were more likely to wait until a weekend to get care? You could do a lot of math, or you could do this:"
   ]
  },
  {
   "cell_type": "code",
   "execution_count": 10,
   "id": "ca75e195",
   "metadata": {},
   "outputs": [
    {
     "data": {
      "text/plain": [
       "0     0\n",
       "1     2\n",
       "2     0\n",
       "3     2\n",
       "4     0\n",
       "5     4\n",
       "6     4\n",
       "7     5\n",
       "8     5\n",
       "9     3\n",
       "10    5\n",
       "11    2\n",
       "12    1\n",
       "13    0\n",
       "14    0\n",
       "15    2\n",
       "16    3\n",
       "17    6\n",
       "18    3\n",
       "19    3\n",
       "20    4\n",
       "21    4\n",
       "22    2\n",
       "23    0\n",
       "24    3\n",
       "25    6\n",
       "26    4\n",
       "27    3\n",
       "28    4\n",
       "29    5\n",
       "30    2\n",
       "31    5\n",
       "32    4\n",
       "33    5\n",
       "34    1\n",
       "35    1\n",
       "36    3\n",
       "37    6\n",
       "38    5\n",
       "39    2\n",
       "40    6\n",
       "41    5\n",
       "42    0\n",
       "43    1\n",
       "44    3\n",
       "45    2\n",
       "46    0\n",
       "47    3\n",
       "48    4\n",
       "49    6\n",
       "Name: Intake, dtype: int32"
      ]
     },
     "execution_count": 10,
     "metadata": {},
     "output_type": "execute_result"
    }
   ],
   "source": [
    "date_frame['Intake'].dt.weekday"
   ]
  },
  {
   "cell_type": "markdown",
   "id": "e6879391",
   "metadata": {},
   "source": [
    "That's the day of the week, starting at Monday (0) and ending on Sunday (6). Now, we could start writing out a list of days and use this as a list index to pull the name of the day (`weekday_names[date_frame['Intake'].dt.weekday]`, roughly), but pandas has anticipated this need with the `day_name()` function."
   ]
  },
  {
   "cell_type": "code",
   "execution_count": 11,
   "id": "4af77065",
   "metadata": {},
   "outputs": [
    {
     "data": {
      "text/plain": [
       "0        Monday\n",
       "1     Wednesday\n",
       "2        Monday\n",
       "3     Wednesday\n",
       "4        Monday\n",
       "5        Friday\n",
       "6        Friday\n",
       "7      Saturday\n",
       "8      Saturday\n",
       "9      Thursday\n",
       "10     Saturday\n",
       "11    Wednesday\n",
       "12      Tuesday\n",
       "13       Monday\n",
       "14       Monday\n",
       "15    Wednesday\n",
       "16     Thursday\n",
       "17       Sunday\n",
       "18     Thursday\n",
       "19     Thursday\n",
       "20       Friday\n",
       "21       Friday\n",
       "22    Wednesday\n",
       "23       Monday\n",
       "24     Thursday\n",
       "25       Sunday\n",
       "26       Friday\n",
       "27     Thursday\n",
       "28       Friday\n",
       "29     Saturday\n",
       "30    Wednesday\n",
       "31     Saturday\n",
       "32       Friday\n",
       "33     Saturday\n",
       "34      Tuesday\n",
       "35      Tuesday\n",
       "36     Thursday\n",
       "37       Sunday\n",
       "38     Saturday\n",
       "39    Wednesday\n",
       "40       Sunday\n",
       "41     Saturday\n",
       "42       Monday\n",
       "43      Tuesday\n",
       "44     Thursday\n",
       "45    Wednesday\n",
       "46       Monday\n",
       "47     Thursday\n",
       "48       Friday\n",
       "49       Sunday\n",
       "Name: Intake, dtype: object"
      ]
     },
     "execution_count": 11,
     "metadata": {},
     "output_type": "execute_result"
    }
   ],
   "source": [
    "date_frame['Intake'].dt.day_name()"
   ]
  },
  {
   "cell_type": "markdown",
   "id": "cbb04e4e",
   "metadata": {},
   "source": [
    "Note that unlike `weekday`, which is an attribute, `day_name` is a method, and so it must be called as a function (`day_name()`).\n",
    "\n",
    "When dealing with timedelta objects in pandas we again use the `dt` notation. Like a regular timedelta this has days, seconds, and microseconds, but these will be accessed via `dt.days`, `dt.seconds`, and `dt.microseconds`.\n",
    "\n",
    "Below, we are creating a column that represents the seconds the person was in the hospital. Note that to use the dot notation on the calculated timedelta we need to enclose the calculation in parentheses, which makes it clear to Python that we finish that calculation and then get the `.dt.seconds` from that."
   ]
  },
  {
   "cell_type": "code",
   "execution_count": 12,
   "id": "a56eb350",
   "metadata": {},
   "outputs": [
    {
     "data": {
      "text/html": [
       "<div>\n",
       "<style scoped>\n",
       "    .dataframe tbody tr th:only-of-type {\n",
       "        vertical-align: middle;\n",
       "    }\n",
       "\n",
       "    .dataframe tbody tr th {\n",
       "        vertical-align: top;\n",
       "    }\n",
       "\n",
       "    .dataframe thead th {\n",
       "        text-align: right;\n",
       "    }\n",
       "</style>\n",
       "<table border=\"1\" class=\"dataframe\">\n",
       "  <thead>\n",
       "    <tr style=\"text-align: right;\">\n",
       "      <th></th>\n",
       "      <th>Intake</th>\n",
       "      <th>Discharge</th>\n",
       "      <th>Seconds of Hospitalization</th>\n",
       "    </tr>\n",
       "  </thead>\n",
       "  <tbody>\n",
       "    <tr>\n",
       "      <th>0</th>\n",
       "      <td>1990-06-04 04:00:00</td>\n",
       "      <td>1990-06-08 06:29:53</td>\n",
       "      <td>8993</td>\n",
       "    </tr>\n",
       "    <tr>\n",
       "      <th>1</th>\n",
       "      <td>2014-02-05 07:00:00</td>\n",
       "      <td>2014-02-09 13:10:29</td>\n",
       "      <td>22229</td>\n",
       "    </tr>\n",
       "    <tr>\n",
       "      <th>2</th>\n",
       "      <td>1990-04-02 23:00:00</td>\n",
       "      <td>1990-04-29 16:38:05</td>\n",
       "      <td>63485</td>\n",
       "    </tr>\n",
       "    <tr>\n",
       "      <th>3</th>\n",
       "      <td>1992-11-04 11:00:00</td>\n",
       "      <td>1992-11-16 01:35:04</td>\n",
       "      <td>52504</td>\n",
       "    </tr>\n",
       "    <tr>\n",
       "      <th>4</th>\n",
       "      <td>2019-01-14 17:00:00</td>\n",
       "      <td>2019-02-01 10:19:14</td>\n",
       "      <td>62354</td>\n",
       "    </tr>\n",
       "  </tbody>\n",
       "</table>\n",
       "</div>"
      ],
      "text/plain": [
       "               Intake           Discharge  Seconds of Hospitalization\n",
       "0 1990-06-04 04:00:00 1990-06-08 06:29:53                        8993\n",
       "1 2014-02-05 07:00:00 2014-02-09 13:10:29                       22229\n",
       "2 1990-04-02 23:00:00 1990-04-29 16:38:05                       63485\n",
       "3 1992-11-04 11:00:00 1992-11-16 01:35:04                       52504\n",
       "4 2019-01-14 17:00:00 2019-02-01 10:19:14                       62354"
      ]
     },
     "execution_count": 12,
     "metadata": {},
     "output_type": "execute_result"
    }
   ],
   "source": [
    "date_frame['Seconds of Hospitalization'] = (date_frame['Discharge'] - date_frame['Intake']).dt.seconds\n",
    "date_frame.head()"
   ]
  },
  {
   "cell_type": "markdown",
   "id": "31f0f5e5",
   "metadata": {},
   "source": [
    "#### Below, create a new column that has the number of days the person was in the hospital. (Note the name of the dataframe, as well. Unlike last notebook, it isn't df.)"
   ]
  },
  {
   "cell_type": "code",
   "execution_count": null,
   "id": "5564097d",
   "metadata": {},
   "outputs": [],
   "source": [
    "# your code goes here\n"
   ]
  },
  {
   "cell_type": "markdown",
   "id": "40d8403f",
   "metadata": {},
   "source": [
    "What about dates that come as text? The dataframe below has dates in three formats, all text: month-day-year, day-month-year, and year-month-day."
   ]
  },
  {
   "cell_type": "code",
   "execution_count": 13,
   "id": "d39ef1d2",
   "metadata": {},
   "outputs": [
    {
     "data": {
      "text/html": [
       "<div>\n",
       "<style scoped>\n",
       "    .dataframe tbody tr th:only-of-type {\n",
       "        vertical-align: middle;\n",
       "    }\n",
       "\n",
       "    .dataframe tbody tr th {\n",
       "        vertical-align: top;\n",
       "    }\n",
       "\n",
       "    .dataframe thead th {\n",
       "        text-align: right;\n",
       "    }\n",
       "</style>\n",
       "<table border=\"1\" class=\"dataframe\">\n",
       "  <thead>\n",
       "    <tr style=\"text-align: right;\">\n",
       "      <th></th>\n",
       "      <th>Month First</th>\n",
       "      <th>Day First</th>\n",
       "      <th>Year First</th>\n",
       "    </tr>\n",
       "  </thead>\n",
       "  <tbody>\n",
       "    <tr>\n",
       "      <th>0</th>\n",
       "      <td>3-3-2018</td>\n",
       "      <td>3-3-2018</td>\n",
       "      <td>2018-3-3</td>\n",
       "    </tr>\n",
       "    <tr>\n",
       "      <th>1</th>\n",
       "      <td>1-14-2002</td>\n",
       "      <td>14-1-2002</td>\n",
       "      <td>2002-1-14</td>\n",
       "    </tr>\n",
       "    <tr>\n",
       "      <th>2</th>\n",
       "      <td>2-9-2016</td>\n",
       "      <td>9-2-2016</td>\n",
       "      <td>2016-2-9</td>\n",
       "    </tr>\n",
       "    <tr>\n",
       "      <th>3</th>\n",
       "      <td>5-12-2015</td>\n",
       "      <td>12-5-2015</td>\n",
       "      <td>2015-5-12</td>\n",
       "    </tr>\n",
       "    <tr>\n",
       "      <th>4</th>\n",
       "      <td>6-26-1995</td>\n",
       "      <td>26-6-1995</td>\n",
       "      <td>1995-6-26</td>\n",
       "    </tr>\n",
       "  </tbody>\n",
       "</table>\n",
       "</div>"
      ],
      "text/plain": [
       "  Month First  Day First Year First\n",
       "0    3-3-2018   3-3-2018   2018-3-3\n",
       "1   1-14-2002  14-1-2002  2002-1-14\n",
       "2    2-9-2016   9-2-2016   2016-2-9\n",
       "3   5-12-2015  12-5-2015  2015-5-12\n",
       "4   6-26-1995  26-6-1995  1995-6-26"
      ]
     },
     "execution_count": 13,
     "metadata": {},
     "output_type": "execute_result"
    }
   ],
   "source": [
    "text_dict = {'Month First': [], 'Day First': [], 'Year First': []}\n",
    "\n",
    "for x in range(0, 50):\n",
    "    year = str(random.randint(1990, 2020))\n",
    "    month = str(random.randint(1, 12))\n",
    "    day = str(random.randint(1, 28))\n",
    "    text_dict['Month First'].append(month + '-' + day + '-' + year)\n",
    "    text_dict['Day First'].append(day + '-' + month + '-' + year)\n",
    "    text_dict['Year First'].append(year + '-' + month + '-' + day)\n",
    "    \n",
    "text_frame = pd.DataFrame(text_dict)\n",
    "text_frame.head()"
   ]
  },
  {
   "cell_type": "markdown",
   "id": "80adcbe2",
   "metadata": {},
   "source": [
    "Pandas provides us with the `to_datetime` function, which serves to convert text to datetime format. Let's run that on the month first data."
   ]
  },
  {
   "cell_type": "code",
   "execution_count": 14,
   "id": "849eaf09",
   "metadata": {},
   "outputs": [
    {
     "data": {
      "text/plain": [
       "0    2018-03-03\n",
       "1    2002-01-14\n",
       "2    2016-02-09\n",
       "3    2015-05-12\n",
       "4    1995-06-26\n",
       "5    1993-02-28\n",
       "6    2008-11-12\n",
       "7    2011-04-15\n",
       "8    2009-12-09\n",
       "9    1995-04-05\n",
       "10   2015-09-24\n",
       "11   2000-05-02\n",
       "12   2008-06-16\n",
       "13   2011-12-20\n",
       "14   2020-06-22\n",
       "15   1992-02-05\n",
       "16   2006-04-02\n",
       "17   2007-03-01\n",
       "18   2006-05-04\n",
       "19   2008-09-10\n",
       "20   1997-06-26\n",
       "21   2002-05-03\n",
       "22   1998-02-24\n",
       "23   2012-11-26\n",
       "24   2019-02-02\n",
       "25   1997-11-02\n",
       "26   1991-04-05\n",
       "27   1996-07-04\n",
       "28   2002-10-25\n",
       "29   2005-09-28\n",
       "30   2016-10-26\n",
       "31   1996-02-18\n",
       "32   1991-04-05\n",
       "33   1997-10-09\n",
       "34   2006-08-18\n",
       "35   1994-07-11\n",
       "36   1993-10-03\n",
       "37   1997-07-28\n",
       "38   2010-01-04\n",
       "39   1997-04-01\n",
       "40   2009-11-07\n",
       "41   2012-10-13\n",
       "42   1991-10-15\n",
       "43   2001-08-27\n",
       "44   2010-12-07\n",
       "45   1993-07-06\n",
       "46   2008-05-19\n",
       "47   1995-01-08\n",
       "48   1996-11-23\n",
       "49   2020-04-13\n",
       "Name: Month First, dtype: datetime64[ns]"
      ]
     },
     "execution_count": 14,
     "metadata": {},
     "output_type": "execute_result"
    }
   ],
   "source": [
    "pd.to_datetime(text_frame['Month First'])"
   ]
  },
  {
   "cell_type": "markdown",
   "id": "6628baed",
   "metadata": {},
   "source": [
    "To run a day-first column we only need to pass the keyword argument `dayfirst=True`."
   ]
  },
  {
   "cell_type": "code",
   "execution_count": 15,
   "id": "71b53027",
   "metadata": {},
   "outputs": [
    {
     "data": {
      "text/plain": [
       "0    2018-03-03\n",
       "1    2002-01-14\n",
       "2    2016-02-09\n",
       "3    2015-05-12\n",
       "4    1995-06-26\n",
       "5    1993-02-28\n",
       "6    2008-11-12\n",
       "7    2011-04-15\n",
       "8    2009-12-09\n",
       "9    1995-04-05\n",
       "10   2015-09-24\n",
       "11   2000-05-02\n",
       "12   2008-06-16\n",
       "13   2011-12-20\n",
       "14   2020-06-22\n",
       "15   1992-02-05\n",
       "16   2006-04-02\n",
       "17   2007-03-01\n",
       "18   2006-05-04\n",
       "19   2008-09-10\n",
       "20   1997-06-26\n",
       "21   2002-05-03\n",
       "22   1998-02-24\n",
       "23   2012-11-26\n",
       "24   2019-02-02\n",
       "25   1997-11-02\n",
       "26   1991-04-05\n",
       "27   1996-07-04\n",
       "28   2002-10-25\n",
       "29   2005-09-28\n",
       "30   2016-10-26\n",
       "31   1996-02-18\n",
       "32   1991-04-05\n",
       "33   1997-10-09\n",
       "34   2006-08-18\n",
       "35   1994-07-11\n",
       "36   1993-10-03\n",
       "37   1997-07-28\n",
       "38   2010-01-04\n",
       "39   1997-04-01\n",
       "40   2009-11-07\n",
       "41   2012-10-13\n",
       "42   1991-10-15\n",
       "43   2001-08-27\n",
       "44   2010-12-07\n",
       "45   1993-07-06\n",
       "46   2008-05-19\n",
       "47   1995-01-08\n",
       "48   1996-11-23\n",
       "49   2020-04-13\n",
       "Name: Day First, dtype: datetime64[ns]"
      ]
     },
     "execution_count": 15,
     "metadata": {},
     "output_type": "execute_result"
    }
   ],
   "source": [
    "pd.to_datetime(text_frame['Day First'], dayfirst=True)"
   ]
  },
  {
   "cell_type": "markdown",
   "id": "4ab1d69e",
   "metadata": {},
   "source": [
    "#### Now, write code that handles the year-first column and makes a new column, Date, that is the date in a datetime format. Year-first does not require any special arguments."
   ]
  },
  {
   "cell_type": "code",
   "execution_count": 16,
   "id": "76036e34",
   "metadata": {},
   "outputs": [],
   "source": [
    "# your code goes here\n"
   ]
  },
  {
   "cell_type": "markdown",
   "id": "eb140fe4",
   "metadata": {},
   "source": [
    "What about reassembling datetimes from components? The dataframe below (`separate_frame`) has three pieces of data that, together, could be the year, month, and day of a datetime object."
   ]
  },
  {
   "cell_type": "code",
   "execution_count": 17,
   "id": "3830be3b",
   "metadata": {},
   "outputs": [
    {
     "data": {
      "text/html": [
       "<div>\n",
       "<style scoped>\n",
       "    .dataframe tbody tr th:only-of-type {\n",
       "        vertical-align: middle;\n",
       "    }\n",
       "\n",
       "    .dataframe tbody tr th {\n",
       "        vertical-align: top;\n",
       "    }\n",
       "\n",
       "    .dataframe thead th {\n",
       "        text-align: right;\n",
       "    }\n",
       "</style>\n",
       "<table border=\"1\" class=\"dataframe\">\n",
       "  <thead>\n",
       "    <tr style=\"text-align: right;\">\n",
       "      <th></th>\n",
       "      <th>Intake Year</th>\n",
       "      <th>Intake Month</th>\n",
       "      <th>Intake Day</th>\n",
       "      <th>Intake Hour</th>\n",
       "    </tr>\n",
       "  </thead>\n",
       "  <tbody>\n",
       "    <tr>\n",
       "      <th>0</th>\n",
       "      <td>1990</td>\n",
       "      <td>6</td>\n",
       "      <td>4</td>\n",
       "      <td>4</td>\n",
       "    </tr>\n",
       "    <tr>\n",
       "      <th>1</th>\n",
       "      <td>2014</td>\n",
       "      <td>2</td>\n",
       "      <td>5</td>\n",
       "      <td>7</td>\n",
       "    </tr>\n",
       "    <tr>\n",
       "      <th>2</th>\n",
       "      <td>1990</td>\n",
       "      <td>4</td>\n",
       "      <td>2</td>\n",
       "      <td>23</td>\n",
       "    </tr>\n",
       "    <tr>\n",
       "      <th>3</th>\n",
       "      <td>1992</td>\n",
       "      <td>11</td>\n",
       "      <td>4</td>\n",
       "      <td>11</td>\n",
       "    </tr>\n",
       "    <tr>\n",
       "      <th>4</th>\n",
       "      <td>2019</td>\n",
       "      <td>1</td>\n",
       "      <td>14</td>\n",
       "      <td>17</td>\n",
       "    </tr>\n",
       "  </tbody>\n",
       "</table>\n",
       "</div>"
      ],
      "text/plain": [
       "   Intake Year  Intake Month  Intake Day  Intake Hour\n",
       "0         1990             6           4            4\n",
       "1         2014             2           5            7\n",
       "2         1990             4           2           23\n",
       "3         1992            11           4           11\n",
       "4         2019             1          14           17"
      ]
     },
     "execution_count": 17,
     "metadata": {},
     "output_type": "execute_result"
    }
   ],
   "source": [
    "separate_frame = pd.DataFrame()\n",
    "separate_frame['Intake Year'] = date_frame['Intake'].dt.year\n",
    "separate_frame['Intake Month'] = date_frame['Intake'].dt.month\n",
    "separate_frame['Intake Day'] = date_frame['Intake'].dt.day\n",
    "separate_frame['Intake Hour'] = date_frame['Intake'].dt.hour\n",
    "separate_frame.head()"
   ]
  },
  {
   "cell_type": "markdown",
   "id": "20e95785",
   "metadata": {},
   "source": [
    "It turns out that `pd.to_datetime` can also convert a selection of columns into a pandas Series of datetime objects if the column names match keyword arguments, like \"year\", or \"Month\". (Capitalization, in this particular case, does not matter.) Minimally, you need a year, a month, and a day.\n",
    "\n",
    "The code below asks for Intake Year, Intake Month, and Intake Day and renames them \"year\", \"month\", and \"day\". This is NOT an in-place operation, because this new object is meant to be temporary."
   ]
  },
  {
   "cell_type": "code",
   "execution_count": 18,
   "id": "1d015878",
   "metadata": {},
   "outputs": [
    {
     "data": {
      "text/html": [
       "<div>\n",
       "<style scoped>\n",
       "    .dataframe tbody tr th:only-of-type {\n",
       "        vertical-align: middle;\n",
       "    }\n",
       "\n",
       "    .dataframe tbody tr th {\n",
       "        vertical-align: top;\n",
       "    }\n",
       "\n",
       "    .dataframe thead th {\n",
       "        text-align: right;\n",
       "    }\n",
       "</style>\n",
       "<table border=\"1\" class=\"dataframe\">\n",
       "  <thead>\n",
       "    <tr style=\"text-align: right;\">\n",
       "      <th></th>\n",
       "      <th>year</th>\n",
       "      <th>month</th>\n",
       "      <th>day</th>\n",
       "    </tr>\n",
       "  </thead>\n",
       "  <tbody>\n",
       "    <tr>\n",
       "      <th>0</th>\n",
       "      <td>1990</td>\n",
       "      <td>6</td>\n",
       "      <td>4</td>\n",
       "    </tr>\n",
       "    <tr>\n",
       "      <th>1</th>\n",
       "      <td>2014</td>\n",
       "      <td>2</td>\n",
       "      <td>5</td>\n",
       "    </tr>\n",
       "    <tr>\n",
       "      <th>2</th>\n",
       "      <td>1990</td>\n",
       "      <td>4</td>\n",
       "      <td>2</td>\n",
       "    </tr>\n",
       "    <tr>\n",
       "      <th>3</th>\n",
       "      <td>1992</td>\n",
       "      <td>11</td>\n",
       "      <td>4</td>\n",
       "    </tr>\n",
       "    <tr>\n",
       "      <th>4</th>\n",
       "      <td>2019</td>\n",
       "      <td>1</td>\n",
       "      <td>14</td>\n",
       "    </tr>\n",
       "    <tr>\n",
       "      <th>5</th>\n",
       "      <td>1993</td>\n",
       "      <td>1</td>\n",
       "      <td>22</td>\n",
       "    </tr>\n",
       "    <tr>\n",
       "      <th>6</th>\n",
       "      <td>2012</td>\n",
       "      <td>7</td>\n",
       "      <td>6</td>\n",
       "    </tr>\n",
       "    <tr>\n",
       "      <th>7</th>\n",
       "      <td>1996</td>\n",
       "      <td>4</td>\n",
       "      <td>6</td>\n",
       "    </tr>\n",
       "    <tr>\n",
       "      <th>8</th>\n",
       "      <td>2008</td>\n",
       "      <td>12</td>\n",
       "      <td>13</td>\n",
       "    </tr>\n",
       "    <tr>\n",
       "      <th>9</th>\n",
       "      <td>1999</td>\n",
       "      <td>4</td>\n",
       "      <td>22</td>\n",
       "    </tr>\n",
       "    <tr>\n",
       "      <th>10</th>\n",
       "      <td>1995</td>\n",
       "      <td>10</td>\n",
       "      <td>7</td>\n",
       "    </tr>\n",
       "    <tr>\n",
       "      <th>11</th>\n",
       "      <td>1992</td>\n",
       "      <td>1</td>\n",
       "      <td>22</td>\n",
       "    </tr>\n",
       "    <tr>\n",
       "      <th>12</th>\n",
       "      <td>2010</td>\n",
       "      <td>6</td>\n",
       "      <td>1</td>\n",
       "    </tr>\n",
       "    <tr>\n",
       "      <th>13</th>\n",
       "      <td>2007</td>\n",
       "      <td>4</td>\n",
       "      <td>23</td>\n",
       "    </tr>\n",
       "    <tr>\n",
       "      <th>14</th>\n",
       "      <td>1997</td>\n",
       "      <td>12</td>\n",
       "      <td>8</td>\n",
       "    </tr>\n",
       "    <tr>\n",
       "      <th>15</th>\n",
       "      <td>2019</td>\n",
       "      <td>1</td>\n",
       "      <td>2</td>\n",
       "    </tr>\n",
       "    <tr>\n",
       "      <th>16</th>\n",
       "      <td>2009</td>\n",
       "      <td>5</td>\n",
       "      <td>28</td>\n",
       "    </tr>\n",
       "    <tr>\n",
       "      <th>17</th>\n",
       "      <td>1993</td>\n",
       "      <td>12</td>\n",
       "      <td>5</td>\n",
       "    </tr>\n",
       "    <tr>\n",
       "      <th>18</th>\n",
       "      <td>1996</td>\n",
       "      <td>7</td>\n",
       "      <td>18</td>\n",
       "    </tr>\n",
       "    <tr>\n",
       "      <th>19</th>\n",
       "      <td>2012</td>\n",
       "      <td>11</td>\n",
       "      <td>15</td>\n",
       "    </tr>\n",
       "    <tr>\n",
       "      <th>20</th>\n",
       "      <td>2012</td>\n",
       "      <td>5</td>\n",
       "      <td>11</td>\n",
       "    </tr>\n",
       "    <tr>\n",
       "      <th>21</th>\n",
       "      <td>1992</td>\n",
       "      <td>7</td>\n",
       "      <td>10</td>\n",
       "    </tr>\n",
       "    <tr>\n",
       "      <th>22</th>\n",
       "      <td>2004</td>\n",
       "      <td>1</td>\n",
       "      <td>28</td>\n",
       "    </tr>\n",
       "    <tr>\n",
       "      <th>23</th>\n",
       "      <td>1998</td>\n",
       "      <td>3</td>\n",
       "      <td>9</td>\n",
       "    </tr>\n",
       "    <tr>\n",
       "      <th>24</th>\n",
       "      <td>1990</td>\n",
       "      <td>4</td>\n",
       "      <td>12</td>\n",
       "    </tr>\n",
       "    <tr>\n",
       "      <th>25</th>\n",
       "      <td>2010</td>\n",
       "      <td>3</td>\n",
       "      <td>7</td>\n",
       "    </tr>\n",
       "    <tr>\n",
       "      <th>26</th>\n",
       "      <td>1993</td>\n",
       "      <td>1</td>\n",
       "      <td>1</td>\n",
       "    </tr>\n",
       "    <tr>\n",
       "      <th>27</th>\n",
       "      <td>2016</td>\n",
       "      <td>10</td>\n",
       "      <td>20</td>\n",
       "    </tr>\n",
       "    <tr>\n",
       "      <th>28</th>\n",
       "      <td>2006</td>\n",
       "      <td>2</td>\n",
       "      <td>10</td>\n",
       "    </tr>\n",
       "    <tr>\n",
       "      <th>29</th>\n",
       "      <td>1995</td>\n",
       "      <td>7</td>\n",
       "      <td>8</td>\n",
       "    </tr>\n",
       "    <tr>\n",
       "      <th>30</th>\n",
       "      <td>1995</td>\n",
       "      <td>8</td>\n",
       "      <td>2</td>\n",
       "    </tr>\n",
       "    <tr>\n",
       "      <th>31</th>\n",
       "      <td>2016</td>\n",
       "      <td>5</td>\n",
       "      <td>7</td>\n",
       "    </tr>\n",
       "    <tr>\n",
       "      <th>32</th>\n",
       "      <td>2018</td>\n",
       "      <td>10</td>\n",
       "      <td>19</td>\n",
       "    </tr>\n",
       "    <tr>\n",
       "      <th>33</th>\n",
       "      <td>2006</td>\n",
       "      <td>3</td>\n",
       "      <td>25</td>\n",
       "    </tr>\n",
       "    <tr>\n",
       "      <th>34</th>\n",
       "      <td>2000</td>\n",
       "      <td>5</td>\n",
       "      <td>2</td>\n",
       "    </tr>\n",
       "    <tr>\n",
       "      <th>35</th>\n",
       "      <td>1997</td>\n",
       "      <td>8</td>\n",
       "      <td>5</td>\n",
       "    </tr>\n",
       "    <tr>\n",
       "      <th>36</th>\n",
       "      <td>2020</td>\n",
       "      <td>1</td>\n",
       "      <td>23</td>\n",
       "    </tr>\n",
       "    <tr>\n",
       "      <th>37</th>\n",
       "      <td>2018</td>\n",
       "      <td>7</td>\n",
       "      <td>8</td>\n",
       "    </tr>\n",
       "    <tr>\n",
       "      <th>38</th>\n",
       "      <td>2014</td>\n",
       "      <td>1</td>\n",
       "      <td>11</td>\n",
       "    </tr>\n",
       "    <tr>\n",
       "      <th>39</th>\n",
       "      <td>1995</td>\n",
       "      <td>4</td>\n",
       "      <td>26</td>\n",
       "    </tr>\n",
       "    <tr>\n",
       "      <th>40</th>\n",
       "      <td>2020</td>\n",
       "      <td>6</td>\n",
       "      <td>21</td>\n",
       "    </tr>\n",
       "    <tr>\n",
       "      <th>41</th>\n",
       "      <td>2002</td>\n",
       "      <td>3</td>\n",
       "      <td>23</td>\n",
       "    </tr>\n",
       "    <tr>\n",
       "      <th>42</th>\n",
       "      <td>2003</td>\n",
       "      <td>10</td>\n",
       "      <td>13</td>\n",
       "    </tr>\n",
       "    <tr>\n",
       "      <th>43</th>\n",
       "      <td>2013</td>\n",
       "      <td>5</td>\n",
       "      <td>21</td>\n",
       "    </tr>\n",
       "    <tr>\n",
       "      <th>44</th>\n",
       "      <td>2016</td>\n",
       "      <td>4</td>\n",
       "      <td>14</td>\n",
       "    </tr>\n",
       "    <tr>\n",
       "      <th>45</th>\n",
       "      <td>2013</td>\n",
       "      <td>2</td>\n",
       "      <td>27</td>\n",
       "    </tr>\n",
       "    <tr>\n",
       "      <th>46</th>\n",
       "      <td>2016</td>\n",
       "      <td>10</td>\n",
       "      <td>10</td>\n",
       "    </tr>\n",
       "    <tr>\n",
       "      <th>47</th>\n",
       "      <td>1992</td>\n",
       "      <td>11</td>\n",
       "      <td>12</td>\n",
       "    </tr>\n",
       "    <tr>\n",
       "      <th>48</th>\n",
       "      <td>2016</td>\n",
       "      <td>4</td>\n",
       "      <td>22</td>\n",
       "    </tr>\n",
       "    <tr>\n",
       "      <th>49</th>\n",
       "      <td>1992</td>\n",
       "      <td>11</td>\n",
       "      <td>1</td>\n",
       "    </tr>\n",
       "  </tbody>\n",
       "</table>\n",
       "</div>"
      ],
      "text/plain": [
       "    year  month  day\n",
       "0   1990      6    4\n",
       "1   2014      2    5\n",
       "2   1990      4    2\n",
       "3   1992     11    4\n",
       "4   2019      1   14\n",
       "5   1993      1   22\n",
       "6   2012      7    6\n",
       "7   1996      4    6\n",
       "8   2008     12   13\n",
       "9   1999      4   22\n",
       "10  1995     10    7\n",
       "11  1992      1   22\n",
       "12  2010      6    1\n",
       "13  2007      4   23\n",
       "14  1997     12    8\n",
       "15  2019      1    2\n",
       "16  2009      5   28\n",
       "17  1993     12    5\n",
       "18  1996      7   18\n",
       "19  2012     11   15\n",
       "20  2012      5   11\n",
       "21  1992      7   10\n",
       "22  2004      1   28\n",
       "23  1998      3    9\n",
       "24  1990      4   12\n",
       "25  2010      3    7\n",
       "26  1993      1    1\n",
       "27  2016     10   20\n",
       "28  2006      2   10\n",
       "29  1995      7    8\n",
       "30  1995      8    2\n",
       "31  2016      5    7\n",
       "32  2018     10   19\n",
       "33  2006      3   25\n",
       "34  2000      5    2\n",
       "35  1997      8    5\n",
       "36  2020      1   23\n",
       "37  2018      7    8\n",
       "38  2014      1   11\n",
       "39  1995      4   26\n",
       "40  2020      6   21\n",
       "41  2002      3   23\n",
       "42  2003     10   13\n",
       "43  2013      5   21\n",
       "44  2016      4   14\n",
       "45  2013      2   27\n",
       "46  2016     10   10\n",
       "47  1992     11   12\n",
       "48  2016      4   22\n",
       "49  1992     11    1"
      ]
     },
     "execution_count": 18,
     "metadata": {},
     "output_type": "execute_result"
    }
   ],
   "source": [
    "separate_frame[['Intake Year', 'Intake Month', 'Intake Day']].rename(columns={'Intake Year': 'year',\n",
    "                                                                              'Intake Month': 'month',\n",
    "                                                                             'Intake Day': 'day'})"
   ]
  },
  {
   "cell_type": "markdown",
   "id": "983693d4",
   "metadata": {},
   "source": [
    "Below, we take the whole operation above and enclose it in the parentheses of `pd.to_datetime`."
   ]
  },
  {
   "cell_type": "code",
   "execution_count": 19,
   "id": "31a431c9",
   "metadata": {},
   "outputs": [
    {
     "data": {
      "text/plain": [
       "0    1990-06-04\n",
       "1    2014-02-05\n",
       "2    1990-04-02\n",
       "3    1992-11-04\n",
       "4    2019-01-14\n",
       "5    1993-01-22\n",
       "6    2012-07-06\n",
       "7    1996-04-06\n",
       "8    2008-12-13\n",
       "9    1999-04-22\n",
       "10   1995-10-07\n",
       "11   1992-01-22\n",
       "12   2010-06-01\n",
       "13   2007-04-23\n",
       "14   1997-12-08\n",
       "15   2019-01-02\n",
       "16   2009-05-28\n",
       "17   1993-12-05\n",
       "18   1996-07-18\n",
       "19   2012-11-15\n",
       "20   2012-05-11\n",
       "21   1992-07-10\n",
       "22   2004-01-28\n",
       "23   1998-03-09\n",
       "24   1990-04-12\n",
       "25   2010-03-07\n",
       "26   1993-01-01\n",
       "27   2016-10-20\n",
       "28   2006-02-10\n",
       "29   1995-07-08\n",
       "30   1995-08-02\n",
       "31   2016-05-07\n",
       "32   2018-10-19\n",
       "33   2006-03-25\n",
       "34   2000-05-02\n",
       "35   1997-08-05\n",
       "36   2020-01-23\n",
       "37   2018-07-08\n",
       "38   2014-01-11\n",
       "39   1995-04-26\n",
       "40   2020-06-21\n",
       "41   2002-03-23\n",
       "42   2003-10-13\n",
       "43   2013-05-21\n",
       "44   2016-04-14\n",
       "45   2013-02-27\n",
       "46   2016-10-10\n",
       "47   1992-11-12\n",
       "48   2016-04-22\n",
       "49   1992-11-01\n",
       "dtype: datetime64[ns]"
      ]
     },
     "execution_count": 19,
     "metadata": {},
     "output_type": "execute_result"
    }
   ],
   "source": [
    "pd.to_datetime(separate_frame[['Intake Year', 'Intake Month', 'Intake Day']].rename(columns={'Intake Year': 'year',\n",
    "                                                                              'Intake Month': 'month',\n",
    "                                                                             'Intake Day': 'day'}))"
   ]
  },
  {
   "cell_type": "markdown",
   "id": "13eb7240",
   "metadata": {},
   "source": [
    "If that were assigned to a column we would have a new, assembled, datetime column.\n",
    "\n",
    "#### Below, make a new column in the separate_frame dataframe that is the datetime object that represents all the columns together."
   ]
  },
  {
   "cell_type": "code",
   "execution_count": null,
   "id": "c1aadd46",
   "metadata": {},
   "outputs": [],
   "source": [
    "# your code goes here\n"
   ]
  },
  {
   "cell_type": "markdown",
   "id": "fe94e7ac",
   "metadata": {},
   "source": [
    "And that's it. While dates and times can be very tricky if you treat them like numbers, converting them to datetime objects can make them easy to deal with."
   ]
  }
 ],
 "metadata": {
  "kernelspec": {
   "display_name": "Python 3 (ipykernel)",
   "language": "python",
   "name": "python3"
  },
  "language_info": {
   "codemirror_mode": {
    "name": "ipython",
    "version": 3
   },
   "file_extension": ".py",
   "mimetype": "text/x-python",
   "name": "python",
   "nbconvert_exporter": "python",
   "pygments_lexer": "ipython3",
   "version": "3.9.19"
  }
 },
 "nbformat": 4,
 "nbformat_minor": 5
}
